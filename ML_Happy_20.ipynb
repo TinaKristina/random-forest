{
  "nbformat": 4,
  "nbformat_minor": 0,
  "metadata": {
    "colab": {
      "name": "ML_Happy_20.ipynb",
      "provenance": [],
      "authorship_tag": "ABX9TyPW4vWod6RwFeSAR/hPTLYx",
      "include_colab_link": true
    },
    "kernelspec": {
      "name": "python3",
      "display_name": "Python 3"
    },
    "language_info": {
      "name": "python"
    }
  },
  "cells": [
    {
      "cell_type": "markdown",
      "metadata": {
        "id": "view-in-github",
        "colab_type": "text"
      },
      "source": [
        "<a href=\"https://colab.research.google.com/github/TinaKristina/random-forest/blob/main/ML_Happy_20.ipynb\" target=\"_parent\"><img src=\"https://colab.research.google.com/assets/colab-badge.svg\" alt=\"Open In Colab\"/></a>"
      ]
    },
    {
      "cell_type": "markdown",
      "metadata": {
        "id": "fKQFRoOnsj2c"
      },
      "source": [
        "HAPPINESS WORLD REPORT 2021\n",
        "\n",
        "Najnoviji izvestaj Gallup-a, o rangiranju srecnih zemalja. Izuzetno interesantan za istrazivanje zbog pandemije COVID19, u smislu da li je globalna posast uticala na faktore koji uticu na srecu jedne zemlje."
      ]
    },
    {
      "cell_type": "code",
      "metadata": {
        "colab": {
          "base_uri": "https://localhost:8080/"
        },
        "id": "_i3xSPJVHXr9",
        "outputId": "fe907282-65f9-43fd-a4ed-8a8c03bd7b1b"
      },
      "source": [
        "from google.colab import drive\n",
        "drive.mount('/content/drive')\n"
      ],
      "execution_count": 1,
      "outputs": [
        {
          "output_type": "stream",
          "text": [
            "Mounted at /content/drive\n"
          ],
          "name": "stdout"
        }
      ]
    },
    {
      "cell_type": "code",
      "metadata": {
        "id": "eYaylykFHehX"
      },
      "source": [
        "import pandas as pd\n",
        "import numpy as np\n",
        "import matplotlib.pyplot as plt\n",
        "import seaborn as sns"
      ],
      "execution_count": 2,
      "outputs": []
    },
    {
      "cell_type": "code",
      "metadata": {
        "id": "fH1a17P0HrvN"
      },
      "source": [
        "%matplotlib inline"
      ],
      "execution_count": 3,
      "outputs": []
    },
    {
      "cell_type": "code",
      "metadata": {
        "id": "O8b96_rhHvDF"
      },
      "source": [
        "hw20 = pd.read_csv('/content/drive/My Drive/2020.csv')"
      ],
      "execution_count": 4,
      "outputs": []
    },
    {
      "cell_type": "code",
      "metadata": {
        "id": "ok-hIal0I7hL",
        "colab": {
          "base_uri": "https://localhost:8080/",
          "height": 316
        },
        "outputId": "6f43ce15-5899-4939-d7bc-20a427b44723"
      },
      "source": [
        "hw20.head()"
      ],
      "execution_count": 5,
      "outputs": [
        {
          "output_type": "execute_result",
          "data": {
            "text/html": [
              "<div>\n",
              "<style scoped>\n",
              "    .dataframe tbody tr th:only-of-type {\n",
              "        vertical-align: middle;\n",
              "    }\n",
              "\n",
              "    .dataframe tbody tr th {\n",
              "        vertical-align: top;\n",
              "    }\n",
              "\n",
              "    .dataframe thead th {\n",
              "        text-align: right;\n",
              "    }\n",
              "</style>\n",
              "<table border=\"1\" class=\"dataframe\">\n",
              "  <thead>\n",
              "    <tr style=\"text-align: right;\">\n",
              "      <th></th>\n",
              "      <th>Country name</th>\n",
              "      <th>Regional indicator</th>\n",
              "      <th>Ladder score</th>\n",
              "      <th>Standard error of ladder score</th>\n",
              "      <th>upperwhisker</th>\n",
              "      <th>lowerwhisker</th>\n",
              "      <th>Logged GDP per capita</th>\n",
              "      <th>Social support</th>\n",
              "      <th>Healthy life expectancy</th>\n",
              "      <th>Freedom to make life choices</th>\n",
              "      <th>Generosity</th>\n",
              "      <th>Perceptions of corruption</th>\n",
              "      <th>Ladder score in Dystopia</th>\n",
              "      <th>Explained by: Log GDP per capita</th>\n",
              "      <th>Explained by: Social support</th>\n",
              "      <th>Explained by: Healthy life expectancy</th>\n",
              "      <th>Explained by: Freedom to make life choices</th>\n",
              "      <th>Explained by: Generosity</th>\n",
              "      <th>Explained by: Perceptions of corruption</th>\n",
              "      <th>Dystopia + residual</th>\n",
              "    </tr>\n",
              "  </thead>\n",
              "  <tbody>\n",
              "    <tr>\n",
              "      <th>0</th>\n",
              "      <td>Finland</td>\n",
              "      <td>Western Europe</td>\n",
              "      <td>7.842</td>\n",
              "      <td>0.032</td>\n",
              "      <td>7.904</td>\n",
              "      <td>7.780</td>\n",
              "      <td>10.775</td>\n",
              "      <td>0.954</td>\n",
              "      <td>72.0</td>\n",
              "      <td>0.949</td>\n",
              "      <td>-0.098</td>\n",
              "      <td>0.186</td>\n",
              "      <td>2.43</td>\n",
              "      <td>1.446</td>\n",
              "      <td>1.106</td>\n",
              "      <td>0.741</td>\n",
              "      <td>0.691</td>\n",
              "      <td>0.124</td>\n",
              "      <td>0.481</td>\n",
              "      <td>3.253</td>\n",
              "    </tr>\n",
              "    <tr>\n",
              "      <th>1</th>\n",
              "      <td>Denmark</td>\n",
              "      <td>Western Europe</td>\n",
              "      <td>7.620</td>\n",
              "      <td>0.035</td>\n",
              "      <td>7.687</td>\n",
              "      <td>7.552</td>\n",
              "      <td>10.933</td>\n",
              "      <td>0.954</td>\n",
              "      <td>72.7</td>\n",
              "      <td>0.946</td>\n",
              "      <td>0.030</td>\n",
              "      <td>0.179</td>\n",
              "      <td>2.43</td>\n",
              "      <td>1.502</td>\n",
              "      <td>1.108</td>\n",
              "      <td>0.763</td>\n",
              "      <td>0.686</td>\n",
              "      <td>0.208</td>\n",
              "      <td>0.485</td>\n",
              "      <td>2.868</td>\n",
              "    </tr>\n",
              "    <tr>\n",
              "      <th>2</th>\n",
              "      <td>Switzerland</td>\n",
              "      <td>Western Europe</td>\n",
              "      <td>7.571</td>\n",
              "      <td>0.036</td>\n",
              "      <td>7.643</td>\n",
              "      <td>7.500</td>\n",
              "      <td>11.117</td>\n",
              "      <td>0.942</td>\n",
              "      <td>74.4</td>\n",
              "      <td>0.919</td>\n",
              "      <td>0.025</td>\n",
              "      <td>0.292</td>\n",
              "      <td>2.43</td>\n",
              "      <td>1.566</td>\n",
              "      <td>1.079</td>\n",
              "      <td>0.816</td>\n",
              "      <td>0.653</td>\n",
              "      <td>0.204</td>\n",
              "      <td>0.413</td>\n",
              "      <td>2.839</td>\n",
              "    </tr>\n",
              "    <tr>\n",
              "      <th>3</th>\n",
              "      <td>Iceland</td>\n",
              "      <td>Western Europe</td>\n",
              "      <td>7.554</td>\n",
              "      <td>0.059</td>\n",
              "      <td>7.670</td>\n",
              "      <td>7.438</td>\n",
              "      <td>10.878</td>\n",
              "      <td>0.983</td>\n",
              "      <td>73.0</td>\n",
              "      <td>0.955</td>\n",
              "      <td>0.160</td>\n",
              "      <td>0.673</td>\n",
              "      <td>2.43</td>\n",
              "      <td>1.482</td>\n",
              "      <td>1.172</td>\n",
              "      <td>0.772</td>\n",
              "      <td>0.698</td>\n",
              "      <td>0.293</td>\n",
              "      <td>0.170</td>\n",
              "      <td>2.967</td>\n",
              "    </tr>\n",
              "    <tr>\n",
              "      <th>4</th>\n",
              "      <td>Netherlands</td>\n",
              "      <td>Western Europe</td>\n",
              "      <td>7.464</td>\n",
              "      <td>0.027</td>\n",
              "      <td>7.518</td>\n",
              "      <td>7.410</td>\n",
              "      <td>10.932</td>\n",
              "      <td>0.942</td>\n",
              "      <td>72.4</td>\n",
              "      <td>0.913</td>\n",
              "      <td>0.175</td>\n",
              "      <td>0.338</td>\n",
              "      <td>2.43</td>\n",
              "      <td>1.501</td>\n",
              "      <td>1.079</td>\n",
              "      <td>0.753</td>\n",
              "      <td>0.647</td>\n",
              "      <td>0.302</td>\n",
              "      <td>0.384</td>\n",
              "      <td>2.798</td>\n",
              "    </tr>\n",
              "  </tbody>\n",
              "</table>\n",
              "</div>"
            ],
            "text/plain": [
              "  Country name  ... Dystopia + residual\n",
              "0      Finland  ...               3.253\n",
              "1      Denmark  ...               2.868\n",
              "2  Switzerland  ...               2.839\n",
              "3      Iceland  ...               2.967\n",
              "4  Netherlands  ...               2.798\n",
              "\n",
              "[5 rows x 20 columns]"
            ]
          },
          "metadata": {
            "tags": []
          },
          "execution_count": 5
        }
      ]
    },
    {
      "cell_type": "code",
      "metadata": {
        "id": "P_lUeRbtGyuz",
        "colab": {
          "base_uri": "https://localhost:8080/"
        },
        "outputId": "cac5f44d-47b1-4726-f6bf-88a8d66166b7"
      },
      "source": [
        "hw20.info()"
      ],
      "execution_count": 6,
      "outputs": [
        {
          "output_type": "stream",
          "text": [
            "<class 'pandas.core.frame.DataFrame'>\n",
            "RangeIndex: 149 entries, 0 to 148\n",
            "Data columns (total 20 columns):\n",
            " #   Column                                      Non-Null Count  Dtype  \n",
            "---  ------                                      --------------  -----  \n",
            " 0   Country name                                149 non-null    object \n",
            " 1   Regional indicator                          149 non-null    object \n",
            " 2   Ladder score                                149 non-null    float64\n",
            " 3   Standard error of ladder score              149 non-null    float64\n",
            " 4   upperwhisker                                149 non-null    float64\n",
            " 5   lowerwhisker                                149 non-null    float64\n",
            " 6   Logged GDP per capita                       149 non-null    float64\n",
            " 7   Social support                              149 non-null    float64\n",
            " 8   Healthy life expectancy                     149 non-null    float64\n",
            " 9   Freedom to make life choices                149 non-null    float64\n",
            " 10  Generosity                                  149 non-null    float64\n",
            " 11  Perceptions of corruption                   149 non-null    float64\n",
            " 12  Ladder score in Dystopia                    149 non-null    float64\n",
            " 13  Explained by: Log GDP per capita            149 non-null    float64\n",
            " 14  Explained by: Social support                149 non-null    float64\n",
            " 15  Explained by: Healthy life expectancy       149 non-null    float64\n",
            " 16  Explained by: Freedom to make life choices  149 non-null    float64\n",
            " 17  Explained by: Generosity                    149 non-null    float64\n",
            " 18  Explained by: Perceptions of corruption     149 non-null    float64\n",
            " 19  Dystopia + residual                         149 non-null    float64\n",
            "dtypes: float64(18), object(2)\n",
            "memory usage: 23.4+ KB\n"
          ],
          "name": "stdout"
        }
      ]
    },
    {
      "cell_type": "code",
      "metadata": {
        "id": "pvAqL9OnH-Ej",
        "colab": {
          "base_uri": "https://localhost:8080/",
          "height": 321
        },
        "outputId": "4a5c434b-9e44-488d-f9f6-c22c78b2c25d"
      },
      "source": [
        "hw20.describe()"
      ],
      "execution_count": 7,
      "outputs": [
        {
          "output_type": "execute_result",
          "data": {
            "text/html": [
              "<div>\n",
              "<style scoped>\n",
              "    .dataframe tbody tr th:only-of-type {\n",
              "        vertical-align: middle;\n",
              "    }\n",
              "\n",
              "    .dataframe tbody tr th {\n",
              "        vertical-align: top;\n",
              "    }\n",
              "\n",
              "    .dataframe thead th {\n",
              "        text-align: right;\n",
              "    }\n",
              "</style>\n",
              "<table border=\"1\" class=\"dataframe\">\n",
              "  <thead>\n",
              "    <tr style=\"text-align: right;\">\n",
              "      <th></th>\n",
              "      <th>Ladder score</th>\n",
              "      <th>Standard error of ladder score</th>\n",
              "      <th>upperwhisker</th>\n",
              "      <th>lowerwhisker</th>\n",
              "      <th>Logged GDP per capita</th>\n",
              "      <th>Social support</th>\n",
              "      <th>Healthy life expectancy</th>\n",
              "      <th>Freedom to make life choices</th>\n",
              "      <th>Generosity</th>\n",
              "      <th>Perceptions of corruption</th>\n",
              "      <th>Ladder score in Dystopia</th>\n",
              "      <th>Explained by: Log GDP per capita</th>\n",
              "      <th>Explained by: Social support</th>\n",
              "      <th>Explained by: Healthy life expectancy</th>\n",
              "      <th>Explained by: Freedom to make life choices</th>\n",
              "      <th>Explained by: Generosity</th>\n",
              "      <th>Explained by: Perceptions of corruption</th>\n",
              "      <th>Dystopia + residual</th>\n",
              "    </tr>\n",
              "  </thead>\n",
              "  <tbody>\n",
              "    <tr>\n",
              "      <th>count</th>\n",
              "      <td>149.000000</td>\n",
              "      <td>149.000000</td>\n",
              "      <td>149.000000</td>\n",
              "      <td>149.000000</td>\n",
              "      <td>149.000000</td>\n",
              "      <td>149.000000</td>\n",
              "      <td>149.000000</td>\n",
              "      <td>149.000000</td>\n",
              "      <td>149.000000</td>\n",
              "      <td>149.000000</td>\n",
              "      <td>1.490000e+02</td>\n",
              "      <td>149.000000</td>\n",
              "      <td>149.000000</td>\n",
              "      <td>149.000000</td>\n",
              "      <td>149.000000</td>\n",
              "      <td>149.000000</td>\n",
              "      <td>149.000000</td>\n",
              "      <td>149.000000</td>\n",
              "    </tr>\n",
              "    <tr>\n",
              "      <th>mean</th>\n",
              "      <td>5.532839</td>\n",
              "      <td>0.058752</td>\n",
              "      <td>5.648007</td>\n",
              "      <td>5.417631</td>\n",
              "      <td>9.432208</td>\n",
              "      <td>0.814745</td>\n",
              "      <td>64.992799</td>\n",
              "      <td>0.791597</td>\n",
              "      <td>-0.015134</td>\n",
              "      <td>0.727450</td>\n",
              "      <td>2.430000e+00</td>\n",
              "      <td>0.977161</td>\n",
              "      <td>0.793315</td>\n",
              "      <td>0.520161</td>\n",
              "      <td>0.498711</td>\n",
              "      <td>0.178047</td>\n",
              "      <td>0.135141</td>\n",
              "      <td>2.430329</td>\n",
              "    </tr>\n",
              "    <tr>\n",
              "      <th>std</th>\n",
              "      <td>1.073924</td>\n",
              "      <td>0.022001</td>\n",
              "      <td>1.054330</td>\n",
              "      <td>1.094879</td>\n",
              "      <td>1.158601</td>\n",
              "      <td>0.114889</td>\n",
              "      <td>6.762043</td>\n",
              "      <td>0.113332</td>\n",
              "      <td>0.150657</td>\n",
              "      <td>0.179226</td>\n",
              "      <td>5.347044e-15</td>\n",
              "      <td>0.404740</td>\n",
              "      <td>0.258871</td>\n",
              "      <td>0.213019</td>\n",
              "      <td>0.137888</td>\n",
              "      <td>0.098270</td>\n",
              "      <td>0.114361</td>\n",
              "      <td>0.537645</td>\n",
              "    </tr>\n",
              "    <tr>\n",
              "      <th>min</th>\n",
              "      <td>2.523000</td>\n",
              "      <td>0.026000</td>\n",
              "      <td>2.596000</td>\n",
              "      <td>2.449000</td>\n",
              "      <td>6.635000</td>\n",
              "      <td>0.463000</td>\n",
              "      <td>48.478000</td>\n",
              "      <td>0.382000</td>\n",
              "      <td>-0.288000</td>\n",
              "      <td>0.082000</td>\n",
              "      <td>2.430000e+00</td>\n",
              "      <td>0.000000</td>\n",
              "      <td>0.000000</td>\n",
              "      <td>0.000000</td>\n",
              "      <td>0.000000</td>\n",
              "      <td>0.000000</td>\n",
              "      <td>0.000000</td>\n",
              "      <td>0.648000</td>\n",
              "    </tr>\n",
              "    <tr>\n",
              "      <th>25%</th>\n",
              "      <td>4.852000</td>\n",
              "      <td>0.043000</td>\n",
              "      <td>4.991000</td>\n",
              "      <td>4.706000</td>\n",
              "      <td>8.541000</td>\n",
              "      <td>0.750000</td>\n",
              "      <td>59.802000</td>\n",
              "      <td>0.718000</td>\n",
              "      <td>-0.126000</td>\n",
              "      <td>0.667000</td>\n",
              "      <td>2.430000e+00</td>\n",
              "      <td>0.666000</td>\n",
              "      <td>0.647000</td>\n",
              "      <td>0.357000</td>\n",
              "      <td>0.409000</td>\n",
              "      <td>0.105000</td>\n",
              "      <td>0.060000</td>\n",
              "      <td>2.138000</td>\n",
              "    </tr>\n",
              "    <tr>\n",
              "      <th>50%</th>\n",
              "      <td>5.534000</td>\n",
              "      <td>0.054000</td>\n",
              "      <td>5.625000</td>\n",
              "      <td>5.413000</td>\n",
              "      <td>9.569000</td>\n",
              "      <td>0.832000</td>\n",
              "      <td>66.603000</td>\n",
              "      <td>0.804000</td>\n",
              "      <td>-0.036000</td>\n",
              "      <td>0.781000</td>\n",
              "      <td>2.430000e+00</td>\n",
              "      <td>1.025000</td>\n",
              "      <td>0.832000</td>\n",
              "      <td>0.571000</td>\n",
              "      <td>0.514000</td>\n",
              "      <td>0.164000</td>\n",
              "      <td>0.101000</td>\n",
              "      <td>2.509000</td>\n",
              "    </tr>\n",
              "    <tr>\n",
              "      <th>75%</th>\n",
              "      <td>6.255000</td>\n",
              "      <td>0.070000</td>\n",
              "      <td>6.344000</td>\n",
              "      <td>6.128000</td>\n",
              "      <td>10.421000</td>\n",
              "      <td>0.905000</td>\n",
              "      <td>69.600000</td>\n",
              "      <td>0.877000</td>\n",
              "      <td>0.079000</td>\n",
              "      <td>0.845000</td>\n",
              "      <td>2.430000e+00</td>\n",
              "      <td>1.323000</td>\n",
              "      <td>0.996000</td>\n",
              "      <td>0.665000</td>\n",
              "      <td>0.603000</td>\n",
              "      <td>0.239000</td>\n",
              "      <td>0.174000</td>\n",
              "      <td>2.794000</td>\n",
              "    </tr>\n",
              "    <tr>\n",
              "      <th>max</th>\n",
              "      <td>7.842000</td>\n",
              "      <td>0.173000</td>\n",
              "      <td>7.904000</td>\n",
              "      <td>7.780000</td>\n",
              "      <td>11.647000</td>\n",
              "      <td>0.983000</td>\n",
              "      <td>76.953000</td>\n",
              "      <td>0.970000</td>\n",
              "      <td>0.542000</td>\n",
              "      <td>0.939000</td>\n",
              "      <td>2.430000e+00</td>\n",
              "      <td>1.751000</td>\n",
              "      <td>1.172000</td>\n",
              "      <td>0.897000</td>\n",
              "      <td>0.716000</td>\n",
              "      <td>0.541000</td>\n",
              "      <td>0.547000</td>\n",
              "      <td>3.482000</td>\n",
              "    </tr>\n",
              "  </tbody>\n",
              "</table>\n",
              "</div>"
            ],
            "text/plain": [
              "       Ladder score  ...  Dystopia + residual\n",
              "count    149.000000  ...           149.000000\n",
              "mean       5.532839  ...             2.430329\n",
              "std        1.073924  ...             0.537645\n",
              "min        2.523000  ...             0.648000\n",
              "25%        4.852000  ...             2.138000\n",
              "50%        5.534000  ...             2.509000\n",
              "75%        6.255000  ...             2.794000\n",
              "max        7.842000  ...             3.482000\n",
              "\n",
              "[8 rows x 18 columns]"
            ]
          },
          "metadata": {
            "tags": []
          },
          "execution_count": 7
        }
      ]
    },
    {
      "cell_type": "code",
      "metadata": {
        "id": "p5mCX4X3LUdO"
      },
      "source": [
        "hw20 = hw20.drop(columns={'Regional indicator','Standard error of ladder score','upperwhisker', 'lowerwhisker'})"
      ],
      "execution_count": 8,
      "outputs": []
    },
    {
      "cell_type": "code",
      "metadata": {
        "colab": {
          "base_uri": "https://localhost:8080/"
        },
        "id": "UmoseG8KQnGF",
        "outputId": "c6362fd0-927f-4e32-e9d7-9f2b7464ff1f"
      },
      "source": [
        "hw20.columns"
      ],
      "execution_count": 9,
      "outputs": [
        {
          "output_type": "execute_result",
          "data": {
            "text/plain": [
              "Index(['Country name', 'Ladder score', 'Logged GDP per capita',\n",
              "       'Social support', 'Healthy life expectancy',\n",
              "       'Freedom to make life choices', 'Generosity',\n",
              "       'Perceptions of corruption', 'Ladder score in Dystopia',\n",
              "       'Explained by: Log GDP per capita', 'Explained by: Social support',\n",
              "       'Explained by: Healthy life expectancy',\n",
              "       'Explained by: Freedom to make life choices',\n",
              "       'Explained by: Generosity', 'Explained by: Perceptions of corruption',\n",
              "       'Dystopia + residual'],\n",
              "      dtype='object')"
            ]
          },
          "metadata": {
            "tags": []
          },
          "execution_count": 9
        }
      ]
    },
    {
      "cell_type": "code",
      "metadata": {
        "id": "T18vYcwAPZhu"
      },
      "source": [
        "hw20 = hw20.drop(columns={\"Ladder score in Dystopia\", \"Explained by: Log GDP per capita\", \"Explained by: Social support\", \"Explained by: Healthy life expectancy\",\"Explained by: Freedom to make life choices\", \"Explained by: Generosity\", \"Explained by: Perceptions of corruption\"})\n"
      ],
      "execution_count": 10,
      "outputs": []
    },
    {
      "cell_type": "code",
      "metadata": {
        "colab": {
          "base_uri": "https://localhost:8080/"
        },
        "id": "pPU9xVOTRAYH",
        "outputId": "4d685349-064d-43d7-8b34-06da7c5475c5"
      },
      "source": [
        "hw20.columns"
      ],
      "execution_count": 11,
      "outputs": [
        {
          "output_type": "execute_result",
          "data": {
            "text/plain": [
              "Index(['Country name', 'Ladder score', 'Logged GDP per capita',\n",
              "       'Social support', 'Healthy life expectancy',\n",
              "       'Freedom to make life choices', 'Generosity',\n",
              "       'Perceptions of corruption', 'Dystopia + residual'],\n",
              "      dtype='object')"
            ]
          },
          "metadata": {
            "tags": []
          },
          "execution_count": 11
        }
      ]
    },
    {
      "cell_type": "code",
      "metadata": {
        "id": "1fRQqvviOoMz"
      },
      "source": [
        "hw20 = hw20.rename(columns ={'Ladder Score' : 'Score','Logged GDP per capita' : 'GDP','Social support':'Family', 'Healthy life expectancy': 'Health', 'Freedom to make life choices':'Freedom','Perceptions of corruption' : 'Corruption'})\n",
        "hw20['Year'] = '2020'"
      ],
      "execution_count": 12,
      "outputs": []
    },
    {
      "cell_type": "code",
      "metadata": {
        "colab": {
          "base_uri": "https://localhost:8080/"
        },
        "id": "FaoSqnTukeqy",
        "outputId": "7036fcbc-07da-4c07-9f3c-e57be3caf08e"
      },
      "source": [
        "hw20.columns"
      ],
      "execution_count": 13,
      "outputs": [
        {
          "output_type": "execute_result",
          "data": {
            "text/plain": [
              "Index(['Country name', 'Ladder score', 'GDP', 'Family', 'Health', 'Freedom',\n",
              "       'Generosity', 'Corruption', 'Dystopia + residual', 'Year'],\n",
              "      dtype='object')"
            ]
          },
          "metadata": {
            "tags": []
          },
          "execution_count": 13
        }
      ]
    },
    {
      "cell_type": "code",
      "metadata": {
        "id": "zCEeikLekhtV"
      },
      "source": [
        "hw20.columns = ['Country', 'Score', 'GDP', 'Family', 'Health', 'Freedom', 'Generosity', 'Corruption', 'Dystopia', 'Year']"
      ],
      "execution_count": 14,
      "outputs": []
    },
    {
      "cell_type": "code",
      "metadata": {
        "id": "32fCynPnlHeE"
      },
      "source": [
        "del hw20['Dystopia']"
      ],
      "execution_count": 15,
      "outputs": []
    },
    {
      "cell_type": "code",
      "metadata": {
        "colab": {
          "base_uri": "https://localhost:8080/"
        },
        "id": "djguOjJrlNrG",
        "outputId": "ecc2cefb-b315-4304-c43b-7a95814b802d"
      },
      "source": [
        "hw20.columns"
      ],
      "execution_count": 16,
      "outputs": [
        {
          "output_type": "execute_result",
          "data": {
            "text/plain": [
              "Index(['Country', 'Score', 'GDP', 'Family', 'Health', 'Freedom', 'Generosity',\n",
              "       'Corruption', 'Year'],\n",
              "      dtype='object')"
            ]
          },
          "metadata": {
            "tags": []
          },
          "execution_count": 16
        }
      ]
    },
    {
      "cell_type": "code",
      "metadata": {
        "colab": {
          "base_uri": "https://localhost:8080/",
          "height": 197
        },
        "id": "dhFKdu2MmlDB",
        "outputId": "d46bc703-dd21-461d-f0b3-16902a9dfc2e"
      },
      "source": [
        "hw20.head()"
      ],
      "execution_count": 17,
      "outputs": [
        {
          "output_type": "execute_result",
          "data": {
            "text/html": [
              "<div>\n",
              "<style scoped>\n",
              "    .dataframe tbody tr th:only-of-type {\n",
              "        vertical-align: middle;\n",
              "    }\n",
              "\n",
              "    .dataframe tbody tr th {\n",
              "        vertical-align: top;\n",
              "    }\n",
              "\n",
              "    .dataframe thead th {\n",
              "        text-align: right;\n",
              "    }\n",
              "</style>\n",
              "<table border=\"1\" class=\"dataframe\">\n",
              "  <thead>\n",
              "    <tr style=\"text-align: right;\">\n",
              "      <th></th>\n",
              "      <th>Country</th>\n",
              "      <th>Score</th>\n",
              "      <th>GDP</th>\n",
              "      <th>Family</th>\n",
              "      <th>Health</th>\n",
              "      <th>Freedom</th>\n",
              "      <th>Generosity</th>\n",
              "      <th>Corruption</th>\n",
              "      <th>Year</th>\n",
              "    </tr>\n",
              "  </thead>\n",
              "  <tbody>\n",
              "    <tr>\n",
              "      <th>0</th>\n",
              "      <td>Finland</td>\n",
              "      <td>7.842</td>\n",
              "      <td>10.775</td>\n",
              "      <td>0.954</td>\n",
              "      <td>72.0</td>\n",
              "      <td>0.949</td>\n",
              "      <td>-0.098</td>\n",
              "      <td>0.186</td>\n",
              "      <td>2020</td>\n",
              "    </tr>\n",
              "    <tr>\n",
              "      <th>1</th>\n",
              "      <td>Denmark</td>\n",
              "      <td>7.620</td>\n",
              "      <td>10.933</td>\n",
              "      <td>0.954</td>\n",
              "      <td>72.7</td>\n",
              "      <td>0.946</td>\n",
              "      <td>0.030</td>\n",
              "      <td>0.179</td>\n",
              "      <td>2020</td>\n",
              "    </tr>\n",
              "    <tr>\n",
              "      <th>2</th>\n",
              "      <td>Switzerland</td>\n",
              "      <td>7.571</td>\n",
              "      <td>11.117</td>\n",
              "      <td>0.942</td>\n",
              "      <td>74.4</td>\n",
              "      <td>0.919</td>\n",
              "      <td>0.025</td>\n",
              "      <td>0.292</td>\n",
              "      <td>2020</td>\n",
              "    </tr>\n",
              "    <tr>\n",
              "      <th>3</th>\n",
              "      <td>Iceland</td>\n",
              "      <td>7.554</td>\n",
              "      <td>10.878</td>\n",
              "      <td>0.983</td>\n",
              "      <td>73.0</td>\n",
              "      <td>0.955</td>\n",
              "      <td>0.160</td>\n",
              "      <td>0.673</td>\n",
              "      <td>2020</td>\n",
              "    </tr>\n",
              "    <tr>\n",
              "      <th>4</th>\n",
              "      <td>Netherlands</td>\n",
              "      <td>7.464</td>\n",
              "      <td>10.932</td>\n",
              "      <td>0.942</td>\n",
              "      <td>72.4</td>\n",
              "      <td>0.913</td>\n",
              "      <td>0.175</td>\n",
              "      <td>0.338</td>\n",
              "      <td>2020</td>\n",
              "    </tr>\n",
              "  </tbody>\n",
              "</table>\n",
              "</div>"
            ],
            "text/plain": [
              "       Country  Score     GDP  Family  ...  Freedom  Generosity  Corruption  Year\n",
              "0      Finland  7.842  10.775   0.954  ...    0.949      -0.098       0.186  2020\n",
              "1      Denmark  7.620  10.933   0.954  ...    0.946       0.030       0.179  2020\n",
              "2  Switzerland  7.571  11.117   0.942  ...    0.919       0.025       0.292  2020\n",
              "3      Iceland  7.554  10.878   0.983  ...    0.955       0.160       0.673  2020\n",
              "4  Netherlands  7.464  10.932   0.942  ...    0.913       0.175       0.338  2020\n",
              "\n",
              "[5 rows x 9 columns]"
            ]
          },
          "metadata": {
            "tags": []
          },
          "execution_count": 17
        }
      ]
    },
    {
      "cell_type": "code",
      "metadata": {
        "id": "kcW4a2_YmnOv"
      },
      "source": [
        "hw20['Rank'] = np.arange(hw20.shape[0])"
      ],
      "execution_count": 18,
      "outputs": []
    },
    {
      "cell_type": "code",
      "metadata": {
        "colab": {
          "base_uri": "https://localhost:8080/",
          "height": 197
        },
        "id": "AIt8JraXnzjV",
        "outputId": "e757c103-4a8c-4a30-c575-a6b39bf87ab2"
      },
      "source": [
        "hw20.head()"
      ],
      "execution_count": 19,
      "outputs": [
        {
          "output_type": "execute_result",
          "data": {
            "text/html": [
              "<div>\n",
              "<style scoped>\n",
              "    .dataframe tbody tr th:only-of-type {\n",
              "        vertical-align: middle;\n",
              "    }\n",
              "\n",
              "    .dataframe tbody tr th {\n",
              "        vertical-align: top;\n",
              "    }\n",
              "\n",
              "    .dataframe thead th {\n",
              "        text-align: right;\n",
              "    }\n",
              "</style>\n",
              "<table border=\"1\" class=\"dataframe\">\n",
              "  <thead>\n",
              "    <tr style=\"text-align: right;\">\n",
              "      <th></th>\n",
              "      <th>Country</th>\n",
              "      <th>Score</th>\n",
              "      <th>GDP</th>\n",
              "      <th>Family</th>\n",
              "      <th>Health</th>\n",
              "      <th>Freedom</th>\n",
              "      <th>Generosity</th>\n",
              "      <th>Corruption</th>\n",
              "      <th>Year</th>\n",
              "      <th>Rank</th>\n",
              "    </tr>\n",
              "  </thead>\n",
              "  <tbody>\n",
              "    <tr>\n",
              "      <th>0</th>\n",
              "      <td>Finland</td>\n",
              "      <td>7.842</td>\n",
              "      <td>10.775</td>\n",
              "      <td>0.954</td>\n",
              "      <td>72.0</td>\n",
              "      <td>0.949</td>\n",
              "      <td>-0.098</td>\n",
              "      <td>0.186</td>\n",
              "      <td>2020</td>\n",
              "      <td>0</td>\n",
              "    </tr>\n",
              "    <tr>\n",
              "      <th>1</th>\n",
              "      <td>Denmark</td>\n",
              "      <td>7.620</td>\n",
              "      <td>10.933</td>\n",
              "      <td>0.954</td>\n",
              "      <td>72.7</td>\n",
              "      <td>0.946</td>\n",
              "      <td>0.030</td>\n",
              "      <td>0.179</td>\n",
              "      <td>2020</td>\n",
              "      <td>1</td>\n",
              "    </tr>\n",
              "    <tr>\n",
              "      <th>2</th>\n",
              "      <td>Switzerland</td>\n",
              "      <td>7.571</td>\n",
              "      <td>11.117</td>\n",
              "      <td>0.942</td>\n",
              "      <td>74.4</td>\n",
              "      <td>0.919</td>\n",
              "      <td>0.025</td>\n",
              "      <td>0.292</td>\n",
              "      <td>2020</td>\n",
              "      <td>2</td>\n",
              "    </tr>\n",
              "    <tr>\n",
              "      <th>3</th>\n",
              "      <td>Iceland</td>\n",
              "      <td>7.554</td>\n",
              "      <td>10.878</td>\n",
              "      <td>0.983</td>\n",
              "      <td>73.0</td>\n",
              "      <td>0.955</td>\n",
              "      <td>0.160</td>\n",
              "      <td>0.673</td>\n",
              "      <td>2020</td>\n",
              "      <td>3</td>\n",
              "    </tr>\n",
              "    <tr>\n",
              "      <th>4</th>\n",
              "      <td>Netherlands</td>\n",
              "      <td>7.464</td>\n",
              "      <td>10.932</td>\n",
              "      <td>0.942</td>\n",
              "      <td>72.4</td>\n",
              "      <td>0.913</td>\n",
              "      <td>0.175</td>\n",
              "      <td>0.338</td>\n",
              "      <td>2020</td>\n",
              "      <td>4</td>\n",
              "    </tr>\n",
              "  </tbody>\n",
              "</table>\n",
              "</div>"
            ],
            "text/plain": [
              "       Country  Score     GDP  Family  ...  Generosity  Corruption  Year  Rank\n",
              "0      Finland  7.842  10.775   0.954  ...      -0.098       0.186  2020     0\n",
              "1      Denmark  7.620  10.933   0.954  ...       0.030       0.179  2020     1\n",
              "2  Switzerland  7.571  11.117   0.942  ...       0.025       0.292  2020     2\n",
              "3      Iceland  7.554  10.878   0.983  ...       0.160       0.673  2020     3\n",
              "4  Netherlands  7.464  10.932   0.942  ...       0.175       0.338  2020     4\n",
              "\n",
              "[5 rows x 10 columns]"
            ]
          },
          "metadata": {
            "tags": []
          },
          "execution_count": 19
        }
      ]
    },
    {
      "cell_type": "code",
      "metadata": {
        "id": "s-1zUWQEoRYI"
      },
      "source": [
        "hw20 = hw20[['Rank', 'Country', 'Score', 'GDP', 'Family', 'Health', 'Freedom', 'Generosity', 'Corruption','Year']]"
      ],
      "execution_count": 20,
      "outputs": []
    },
    {
      "cell_type": "code",
      "metadata": {
        "colab": {
          "base_uri": "https://localhost:8080/",
          "height": 197
        },
        "id": "FPxnvdmottof",
        "outputId": "80b3d494-5975-45af-a61b-795d0e3f2b86"
      },
      "source": [
        "hw20.head()"
      ],
      "execution_count": 21,
      "outputs": [
        {
          "output_type": "execute_result",
          "data": {
            "text/html": [
              "<div>\n",
              "<style scoped>\n",
              "    .dataframe tbody tr th:only-of-type {\n",
              "        vertical-align: middle;\n",
              "    }\n",
              "\n",
              "    .dataframe tbody tr th {\n",
              "        vertical-align: top;\n",
              "    }\n",
              "\n",
              "    .dataframe thead th {\n",
              "        text-align: right;\n",
              "    }\n",
              "</style>\n",
              "<table border=\"1\" class=\"dataframe\">\n",
              "  <thead>\n",
              "    <tr style=\"text-align: right;\">\n",
              "      <th></th>\n",
              "      <th>Rank</th>\n",
              "      <th>Country</th>\n",
              "      <th>Score</th>\n",
              "      <th>GDP</th>\n",
              "      <th>Family</th>\n",
              "      <th>Health</th>\n",
              "      <th>Freedom</th>\n",
              "      <th>Generosity</th>\n",
              "      <th>Corruption</th>\n",
              "      <th>Year</th>\n",
              "    </tr>\n",
              "  </thead>\n",
              "  <tbody>\n",
              "    <tr>\n",
              "      <th>0</th>\n",
              "      <td>0</td>\n",
              "      <td>Finland</td>\n",
              "      <td>7.842</td>\n",
              "      <td>10.775</td>\n",
              "      <td>0.954</td>\n",
              "      <td>72.0</td>\n",
              "      <td>0.949</td>\n",
              "      <td>-0.098</td>\n",
              "      <td>0.186</td>\n",
              "      <td>2020</td>\n",
              "    </tr>\n",
              "    <tr>\n",
              "      <th>1</th>\n",
              "      <td>1</td>\n",
              "      <td>Denmark</td>\n",
              "      <td>7.620</td>\n",
              "      <td>10.933</td>\n",
              "      <td>0.954</td>\n",
              "      <td>72.7</td>\n",
              "      <td>0.946</td>\n",
              "      <td>0.030</td>\n",
              "      <td>0.179</td>\n",
              "      <td>2020</td>\n",
              "    </tr>\n",
              "    <tr>\n",
              "      <th>2</th>\n",
              "      <td>2</td>\n",
              "      <td>Switzerland</td>\n",
              "      <td>7.571</td>\n",
              "      <td>11.117</td>\n",
              "      <td>0.942</td>\n",
              "      <td>74.4</td>\n",
              "      <td>0.919</td>\n",
              "      <td>0.025</td>\n",
              "      <td>0.292</td>\n",
              "      <td>2020</td>\n",
              "    </tr>\n",
              "    <tr>\n",
              "      <th>3</th>\n",
              "      <td>3</td>\n",
              "      <td>Iceland</td>\n",
              "      <td>7.554</td>\n",
              "      <td>10.878</td>\n",
              "      <td>0.983</td>\n",
              "      <td>73.0</td>\n",
              "      <td>0.955</td>\n",
              "      <td>0.160</td>\n",
              "      <td>0.673</td>\n",
              "      <td>2020</td>\n",
              "    </tr>\n",
              "    <tr>\n",
              "      <th>4</th>\n",
              "      <td>4</td>\n",
              "      <td>Netherlands</td>\n",
              "      <td>7.464</td>\n",
              "      <td>10.932</td>\n",
              "      <td>0.942</td>\n",
              "      <td>72.4</td>\n",
              "      <td>0.913</td>\n",
              "      <td>0.175</td>\n",
              "      <td>0.338</td>\n",
              "      <td>2020</td>\n",
              "    </tr>\n",
              "  </tbody>\n",
              "</table>\n",
              "</div>"
            ],
            "text/plain": [
              "   Rank      Country  Score     GDP  ...  Freedom  Generosity  Corruption  Year\n",
              "0     0      Finland  7.842  10.775  ...    0.949      -0.098       0.186  2020\n",
              "1     1      Denmark  7.620  10.933  ...    0.946       0.030       0.179  2020\n",
              "2     2  Switzerland  7.571  11.117  ...    0.919       0.025       0.292  2020\n",
              "3     3      Iceland  7.554  10.878  ...    0.955       0.160       0.673  2020\n",
              "4     4  Netherlands  7.464  10.932  ...    0.913       0.175       0.338  2020\n",
              "\n",
              "[5 rows x 10 columns]"
            ]
          },
          "metadata": {
            "tags": []
          },
          "execution_count": 21
        }
      ]
    },
    {
      "cell_type": "code",
      "metadata": {
        "id": "XVWwtvWXtwGQ"
      },
      "source": [
        "hw20['Rank'] = np.arange(1,len(hw20)+1)"
      ],
      "execution_count": 22,
      "outputs": []
    },
    {
      "cell_type": "code",
      "metadata": {
        "colab": {
          "base_uri": "https://localhost:8080/",
          "height": 197
        },
        "id": "-AG-zfDhu9Dt",
        "outputId": "acff5f24-721a-49ae-eef8-453cc5c0e30e"
      },
      "source": [
        "hw20.head()"
      ],
      "execution_count": 23,
      "outputs": [
        {
          "output_type": "execute_result",
          "data": {
            "text/html": [
              "<div>\n",
              "<style scoped>\n",
              "    .dataframe tbody tr th:only-of-type {\n",
              "        vertical-align: middle;\n",
              "    }\n",
              "\n",
              "    .dataframe tbody tr th {\n",
              "        vertical-align: top;\n",
              "    }\n",
              "\n",
              "    .dataframe thead th {\n",
              "        text-align: right;\n",
              "    }\n",
              "</style>\n",
              "<table border=\"1\" class=\"dataframe\">\n",
              "  <thead>\n",
              "    <tr style=\"text-align: right;\">\n",
              "      <th></th>\n",
              "      <th>Rank</th>\n",
              "      <th>Country</th>\n",
              "      <th>Score</th>\n",
              "      <th>GDP</th>\n",
              "      <th>Family</th>\n",
              "      <th>Health</th>\n",
              "      <th>Freedom</th>\n",
              "      <th>Generosity</th>\n",
              "      <th>Corruption</th>\n",
              "      <th>Year</th>\n",
              "    </tr>\n",
              "  </thead>\n",
              "  <tbody>\n",
              "    <tr>\n",
              "      <th>0</th>\n",
              "      <td>1</td>\n",
              "      <td>Finland</td>\n",
              "      <td>7.842</td>\n",
              "      <td>10.775</td>\n",
              "      <td>0.954</td>\n",
              "      <td>72.0</td>\n",
              "      <td>0.949</td>\n",
              "      <td>-0.098</td>\n",
              "      <td>0.186</td>\n",
              "      <td>2020</td>\n",
              "    </tr>\n",
              "    <tr>\n",
              "      <th>1</th>\n",
              "      <td>2</td>\n",
              "      <td>Denmark</td>\n",
              "      <td>7.620</td>\n",
              "      <td>10.933</td>\n",
              "      <td>0.954</td>\n",
              "      <td>72.7</td>\n",
              "      <td>0.946</td>\n",
              "      <td>0.030</td>\n",
              "      <td>0.179</td>\n",
              "      <td>2020</td>\n",
              "    </tr>\n",
              "    <tr>\n",
              "      <th>2</th>\n",
              "      <td>3</td>\n",
              "      <td>Switzerland</td>\n",
              "      <td>7.571</td>\n",
              "      <td>11.117</td>\n",
              "      <td>0.942</td>\n",
              "      <td>74.4</td>\n",
              "      <td>0.919</td>\n",
              "      <td>0.025</td>\n",
              "      <td>0.292</td>\n",
              "      <td>2020</td>\n",
              "    </tr>\n",
              "    <tr>\n",
              "      <th>3</th>\n",
              "      <td>4</td>\n",
              "      <td>Iceland</td>\n",
              "      <td>7.554</td>\n",
              "      <td>10.878</td>\n",
              "      <td>0.983</td>\n",
              "      <td>73.0</td>\n",
              "      <td>0.955</td>\n",
              "      <td>0.160</td>\n",
              "      <td>0.673</td>\n",
              "      <td>2020</td>\n",
              "    </tr>\n",
              "    <tr>\n",
              "      <th>4</th>\n",
              "      <td>5</td>\n",
              "      <td>Netherlands</td>\n",
              "      <td>7.464</td>\n",
              "      <td>10.932</td>\n",
              "      <td>0.942</td>\n",
              "      <td>72.4</td>\n",
              "      <td>0.913</td>\n",
              "      <td>0.175</td>\n",
              "      <td>0.338</td>\n",
              "      <td>2020</td>\n",
              "    </tr>\n",
              "  </tbody>\n",
              "</table>\n",
              "</div>"
            ],
            "text/plain": [
              "   Rank      Country  Score     GDP  ...  Freedom  Generosity  Corruption  Year\n",
              "0     1      Finland  7.842  10.775  ...    0.949      -0.098       0.186  2020\n",
              "1     2      Denmark  7.620  10.933  ...    0.946       0.030       0.179  2020\n",
              "2     3  Switzerland  7.571  11.117  ...    0.919       0.025       0.292  2020\n",
              "3     4      Iceland  7.554  10.878  ...    0.955       0.160       0.673  2020\n",
              "4     5  Netherlands  7.464  10.932  ...    0.913       0.175       0.338  2020\n",
              "\n",
              "[5 rows x 10 columns]"
            ]
          },
          "metadata": {
            "tags": []
          },
          "execution_count": 23
        }
      ]
    },
    {
      "cell_type": "code",
      "metadata": {
        "colab": {
          "base_uri": "https://localhost:8080/"
        },
        "id": "BZmaCykrvA4f",
        "outputId": "704a4c61-97d2-469d-e174-032ee77bf8f2"
      },
      "source": [
        "hw20.isna().sum()"
      ],
      "execution_count": 24,
      "outputs": [
        {
          "output_type": "execute_result",
          "data": {
            "text/plain": [
              "Rank          0\n",
              "Country       0\n",
              "Score         0\n",
              "GDP           0\n",
              "Family        0\n",
              "Health        0\n",
              "Freedom       0\n",
              "Generosity    0\n",
              "Corruption    0\n",
              "Year          0\n",
              "dtype: int64"
            ]
          },
          "metadata": {
            "tags": []
          },
          "execution_count": 24
        }
      ]
    },
    {
      "cell_type": "code",
      "metadata": {
        "colab": {
          "base_uri": "https://localhost:8080/"
        },
        "id": "ts6Y2AlmzG3e",
        "outputId": "fc1cc07e-20c4-41bf-f895-12c6b06ab954"
      },
      "source": [
        "hw20.shape"
      ],
      "execution_count": 25,
      "outputs": [
        {
          "output_type": "execute_result",
          "data": {
            "text/plain": [
              "(149, 10)"
            ]
          },
          "metadata": {
            "tags": []
          },
          "execution_count": 25
        }
      ]
    },
    {
      "cell_type": "code",
      "metadata": {
        "colab": {
          "base_uri": "https://localhost:8080/"
        },
        "id": "G7uCfgKyzNF6",
        "outputId": "46548b2a-f96d-493e-f590-9f48fe8d62a5"
      },
      "source": [
        "hw20.isnull().values.any()"
      ],
      "execution_count": 26,
      "outputs": [
        {
          "output_type": "execute_result",
          "data": {
            "text/plain": [
              "False"
            ]
          },
          "metadata": {
            "tags": []
          },
          "execution_count": 26
        }
      ]
    },
    {
      "cell_type": "code",
      "metadata": {
        "colab": {
          "base_uri": "https://localhost:8080/",
          "height": 77
        },
        "id": "d0jfGAUTzfB7",
        "outputId": "759ab109-64c7-4d9a-9895-88fd08edc86b"
      },
      "source": [
        "hw20[hw20['Country'] == 'Serbia']"
      ],
      "execution_count": 27,
      "outputs": [
        {
          "output_type": "execute_result",
          "data": {
            "text/html": [
              "<div>\n",
              "<style scoped>\n",
              "    .dataframe tbody tr th:only-of-type {\n",
              "        vertical-align: middle;\n",
              "    }\n",
              "\n",
              "    .dataframe tbody tr th {\n",
              "        vertical-align: top;\n",
              "    }\n",
              "\n",
              "    .dataframe thead th {\n",
              "        text-align: right;\n",
              "    }\n",
              "</style>\n",
              "<table border=\"1\" class=\"dataframe\">\n",
              "  <thead>\n",
              "    <tr style=\"text-align: right;\">\n",
              "      <th></th>\n",
              "      <th>Rank</th>\n",
              "      <th>Country</th>\n",
              "      <th>Score</th>\n",
              "      <th>GDP</th>\n",
              "      <th>Family</th>\n",
              "      <th>Health</th>\n",
              "      <th>Freedom</th>\n",
              "      <th>Generosity</th>\n",
              "      <th>Corruption</th>\n",
              "      <th>Year</th>\n",
              "    </tr>\n",
              "  </thead>\n",
              "  <tbody>\n",
              "    <tr>\n",
              "      <th>47</th>\n",
              "      <td>48</td>\n",
              "      <td>Serbia</td>\n",
              "      <td>6.078</td>\n",
              "      <td>9.787</td>\n",
              "      <td>0.873</td>\n",
              "      <td>68.6</td>\n",
              "      <td>0.778</td>\n",
              "      <td>0.002</td>\n",
              "      <td>0.835</td>\n",
              "      <td>2020</td>\n",
              "    </tr>\n",
              "  </tbody>\n",
              "</table>\n",
              "</div>"
            ],
            "text/plain": [
              "    Rank Country  Score    GDP  ...  Freedom  Generosity  Corruption  Year\n",
              "47    48  Serbia  6.078  9.787  ...    0.778       0.002       0.835  2020\n",
              "\n",
              "[1 rows x 10 columns]"
            ]
          },
          "metadata": {
            "tags": []
          },
          "execution_count": 27
        }
      ]
    },
    {
      "cell_type": "code",
      "metadata": {
        "colab": {
          "base_uri": "https://localhost:8080/",
          "height": 77
        },
        "id": "C7j_CTyWz-dn",
        "outputId": "ec9a52dd-296b-49f5-82bc-fd27766c796c"
      },
      "source": [
        "hw20[hw20['Country'] == 'Israel']"
      ],
      "execution_count": 28,
      "outputs": [
        {
          "output_type": "execute_result",
          "data": {
            "text/html": [
              "<div>\n",
              "<style scoped>\n",
              "    .dataframe tbody tr th:only-of-type {\n",
              "        vertical-align: middle;\n",
              "    }\n",
              "\n",
              "    .dataframe tbody tr th {\n",
              "        vertical-align: top;\n",
              "    }\n",
              "\n",
              "    .dataframe thead th {\n",
              "        text-align: right;\n",
              "    }\n",
              "</style>\n",
              "<table border=\"1\" class=\"dataframe\">\n",
              "  <thead>\n",
              "    <tr style=\"text-align: right;\">\n",
              "      <th></th>\n",
              "      <th>Rank</th>\n",
              "      <th>Country</th>\n",
              "      <th>Score</th>\n",
              "      <th>GDP</th>\n",
              "      <th>Family</th>\n",
              "      <th>Health</th>\n",
              "      <th>Freedom</th>\n",
              "      <th>Generosity</th>\n",
              "      <th>Corruption</th>\n",
              "      <th>Year</th>\n",
              "    </tr>\n",
              "  </thead>\n",
              "  <tbody>\n",
              "    <tr>\n",
              "      <th>11</th>\n",
              "      <td>12</td>\n",
              "      <td>Israel</td>\n",
              "      <td>7.157</td>\n",
              "      <td>10.575</td>\n",
              "      <td>0.939</td>\n",
              "      <td>73.503</td>\n",
              "      <td>0.8</td>\n",
              "      <td>0.031</td>\n",
              "      <td>0.753</td>\n",
              "      <td>2020</td>\n",
              "    </tr>\n",
              "  </tbody>\n",
              "</table>\n",
              "</div>"
            ],
            "text/plain": [
              "    Rank Country  Score     GDP  ...  Freedom  Generosity  Corruption  Year\n",
              "11    12  Israel  7.157  10.575  ...      0.8       0.031       0.753  2020\n",
              "\n",
              "[1 rows x 10 columns]"
            ]
          },
          "metadata": {
            "tags": []
          },
          "execution_count": 28
        }
      ]
    },
    {
      "cell_type": "code",
      "metadata": {
        "colab": {
          "base_uri": "https://localhost:8080/",
          "height": 286
        },
        "id": "8vvC2DgT0Gep",
        "outputId": "2e88b20b-d81a-4ca4-fa4c-0c98975cb661"
      },
      "source": [
        "hw20.corr()"
      ],
      "execution_count": 29,
      "outputs": [
        {
          "output_type": "execute_result",
          "data": {
            "text/html": [
              "<div>\n",
              "<style scoped>\n",
              "    .dataframe tbody tr th:only-of-type {\n",
              "        vertical-align: middle;\n",
              "    }\n",
              "\n",
              "    .dataframe tbody tr th {\n",
              "        vertical-align: top;\n",
              "    }\n",
              "\n",
              "    .dataframe thead th {\n",
              "        text-align: right;\n",
              "    }\n",
              "</style>\n",
              "<table border=\"1\" class=\"dataframe\">\n",
              "  <thead>\n",
              "    <tr style=\"text-align: right;\">\n",
              "      <th></th>\n",
              "      <th>Rank</th>\n",
              "      <th>Score</th>\n",
              "      <th>GDP</th>\n",
              "      <th>Family</th>\n",
              "      <th>Health</th>\n",
              "      <th>Freedom</th>\n",
              "      <th>Generosity</th>\n",
              "      <th>Corruption</th>\n",
              "    </tr>\n",
              "  </thead>\n",
              "  <tbody>\n",
              "    <tr>\n",
              "      <th>Rank</th>\n",
              "      <td>1.000000</td>\n",
              "      <td>-0.984265</td>\n",
              "      <td>-0.796987</td>\n",
              "      <td>-0.751024</td>\n",
              "      <td>-0.775942</td>\n",
              "      <td>-0.606411</td>\n",
              "      <td>0.039662</td>\n",
              "      <td>0.400654</td>\n",
              "    </tr>\n",
              "    <tr>\n",
              "      <th>Score</th>\n",
              "      <td>-0.984265</td>\n",
              "      <td>1.000000</td>\n",
              "      <td>0.789760</td>\n",
              "      <td>0.756888</td>\n",
              "      <td>0.768099</td>\n",
              "      <td>0.607753</td>\n",
              "      <td>-0.017799</td>\n",
              "      <td>-0.421140</td>\n",
              "    </tr>\n",
              "    <tr>\n",
              "      <th>GDP</th>\n",
              "      <td>-0.796987</td>\n",
              "      <td>0.789760</td>\n",
              "      <td>1.000000</td>\n",
              "      <td>0.785299</td>\n",
              "      <td>0.859461</td>\n",
              "      <td>0.432323</td>\n",
              "      <td>-0.199286</td>\n",
              "      <td>-0.342337</td>\n",
              "    </tr>\n",
              "    <tr>\n",
              "      <th>Family</th>\n",
              "      <td>-0.751024</td>\n",
              "      <td>0.756888</td>\n",
              "      <td>0.785299</td>\n",
              "      <td>1.000000</td>\n",
              "      <td>0.723256</td>\n",
              "      <td>0.482930</td>\n",
              "      <td>-0.114946</td>\n",
              "      <td>-0.203207</td>\n",
              "    </tr>\n",
              "    <tr>\n",
              "      <th>Health</th>\n",
              "      <td>-0.775942</td>\n",
              "      <td>0.768099</td>\n",
              "      <td>0.859461</td>\n",
              "      <td>0.723256</td>\n",
              "      <td>1.000000</td>\n",
              "      <td>0.461494</td>\n",
              "      <td>-0.161750</td>\n",
              "      <td>-0.364374</td>\n",
              "    </tr>\n",
              "    <tr>\n",
              "      <th>Freedom</th>\n",
              "      <td>-0.606411</td>\n",
              "      <td>0.607753</td>\n",
              "      <td>0.432323</td>\n",
              "      <td>0.482930</td>\n",
              "      <td>0.461494</td>\n",
              "      <td>1.000000</td>\n",
              "      <td>0.169437</td>\n",
              "      <td>-0.401363</td>\n",
              "    </tr>\n",
              "    <tr>\n",
              "      <th>Generosity</th>\n",
              "      <td>0.039662</td>\n",
              "      <td>-0.017799</td>\n",
              "      <td>-0.199286</td>\n",
              "      <td>-0.114946</td>\n",
              "      <td>-0.161750</td>\n",
              "      <td>0.169437</td>\n",
              "      <td>1.000000</td>\n",
              "      <td>-0.163962</td>\n",
              "    </tr>\n",
              "    <tr>\n",
              "      <th>Corruption</th>\n",
              "      <td>0.400654</td>\n",
              "      <td>-0.421140</td>\n",
              "      <td>-0.342337</td>\n",
              "      <td>-0.203207</td>\n",
              "      <td>-0.364374</td>\n",
              "      <td>-0.401363</td>\n",
              "      <td>-0.163962</td>\n",
              "      <td>1.000000</td>\n",
              "    </tr>\n",
              "  </tbody>\n",
              "</table>\n",
              "</div>"
            ],
            "text/plain": [
              "                Rank     Score       GDP  ...   Freedom  Generosity  Corruption\n",
              "Rank        1.000000 -0.984265 -0.796987  ... -0.606411    0.039662    0.400654\n",
              "Score      -0.984265  1.000000  0.789760  ...  0.607753   -0.017799   -0.421140\n",
              "GDP        -0.796987  0.789760  1.000000  ...  0.432323   -0.199286   -0.342337\n",
              "Family     -0.751024  0.756888  0.785299  ...  0.482930   -0.114946   -0.203207\n",
              "Health     -0.775942  0.768099  0.859461  ...  0.461494   -0.161750   -0.364374\n",
              "Freedom    -0.606411  0.607753  0.432323  ...  1.000000    0.169437   -0.401363\n",
              "Generosity  0.039662 -0.017799 -0.199286  ...  0.169437    1.000000   -0.163962\n",
              "Corruption  0.400654 -0.421140 -0.342337  ... -0.401363   -0.163962    1.000000\n",
              "\n",
              "[8 rows x 8 columns]"
            ]
          },
          "metadata": {
            "tags": []
          },
          "execution_count": 29
        }
      ]
    },
    {
      "cell_type": "code",
      "metadata": {
        "id": "XgFI47N80Nui"
      },
      "source": [
        "hwc20 = hw20.corr()"
      ],
      "execution_count": 30,
      "outputs": []
    },
    {
      "cell_type": "code",
      "metadata": {
        "colab": {
          "base_uri": "https://localhost:8080/",
          "height": 677
        },
        "id": "wE1V4rfn0qz9",
        "outputId": "9946a925-ae90-4ef7-9925-c82a05b5b2bf"
      },
      "source": [
        "sns.set(rc={'figure.figsize':(10,10)})\n",
        "sns.heatmap(hwc20, annot=True, cmap='coolwarm')\n",
        "plt.title('Correlation plot')\n"
      ],
      "execution_count": 31,
      "outputs": [
        {
          "output_type": "execute_result",
          "data": {
            "text/plain": [
              "Text(0.5, 1.0, 'Correlation plot')"
            ]
          },
          "metadata": {
            "tags": []
          },
          "execution_count": 31
        },
        {
          "output_type": "display_data",
          "data": {
            "image/png": "[encoded data removed]",
            "text/plain": [
              "<Figure size 720x720 with 2 Axes>"
            ]
          },
          "metadata": {
            "tags": []
          }
        }
      ]
    },
    {
      "cell_type": "code",
      "metadata": {
        "colab": {
          "base_uri": "https://localhost:8080/",
          "height": 611
        },
        "id": "jRsE3VSm0yiE",
        "outputId": "cdef969f-b6fb-4e43-b8ce-5c6e29be5127"
      },
      "source": [
        "plt.scatter(hw20.Score,hw20.GDP,color='blue')\n",
        "plt.xlabel('GDP')\n",
        "plt.ylabel('Score')\n",
        "plt.grid(color='gray', linestyle='-' ,linewidth=1)"
      ],
      "execution_count": 32,
      "outputs": [
        {
          "output_type": "display_data",
          "data": {
            "image/png": "[encoded data removed]",
            "text/plain": [
              "<Figure size 720x720 with 1 Axes>"
            ]
          },
          "metadata": {
            "tags": []
          }
        }
      ]
    },
    {
      "cell_type": "code",
      "metadata": {
        "colab": {
          "base_uri": "https://localhost:8080/",
          "height": 780
        },
        "id": "OH_azCsi1Jpn",
        "outputId": "01bcd5b8-1caa-4a3e-e868-6eded79334c8"
      },
      "source": [
        "hw20.hist()"
      ],
      "execution_count": 33,
      "outputs": [
        {
          "output_type": "execute_result",
          "data": {
            "text/plain": [
              "array([[<matplotlib.axes._subplots.AxesSubplot object at 0x7f5ee02402d0>,\n",
              "        <matplotlib.axes._subplots.AxesSubplot object at 0x7f5ee01ea990>,\n",
              "        <matplotlib.axes._subplots.AxesSubplot object at 0x7f5ee01a1fd0>],\n",
              "       [<matplotlib.axes._subplots.AxesSubplot object at 0x7f5ee01636d0>,\n",
              "        <matplotlib.axes._subplots.AxesSubplot object at 0x7f5ee0196d50>,\n",
              "        <matplotlib.axes._subplots.AxesSubplot object at 0x7f5ee0159410>],\n",
              "       [<matplotlib.axes._subplots.AxesSubplot object at 0x7f5ee010db10>,\n",
              "        <matplotlib.axes._subplots.AxesSubplot object at 0x7f5ee00da2d0>,\n",
              "        <matplotlib.axes._subplots.AxesSubplot object at 0x7f5ee00da310>]],\n",
              "      dtype=object)"
            ]
          },
          "metadata": {
            "tags": []
          },
          "execution_count": 33
        },
        {
          "output_type": "display_data",
          "data": {
            "image/png": "[encoded data removed]",
            "text/plain": [
              "<Figure size 720x720 with 9 Axes>"
            ]
          },
          "metadata": {
            "tags": []
          }
        }
      ]
    },
    {
      "cell_type": "markdown",
      "metadata": {
        "id": "dnRRBzGCu1r9"
      },
      "source": [
        "1. ALGORITAM LINEARNE REGRESIJE"
      ]
    },
    {
      "cell_type": "code",
      "metadata": {
        "id": "r8B3hNw41dsx"
      },
      "source": [
        "from sklearn.linear_model import LinearRegression\n",
        "import scipy as sp\n",
        "from sklearn import metrics\n",
        "%matplotlib inline"
      ],
      "execution_count": 34,
      "outputs": []
    },
    {
      "cell_type": "code",
      "metadata": {
        "colab": {
          "base_uri": "https://localhost:8080/"
        },
        "id": "JYCQxhSX11mC",
        "outputId": "b6f93ba3-bb87-4e9c-887f-3be4c533bc80"
      },
      "source": [
        "hw20.columns"
      ],
      "execution_count": 35,
      "outputs": [
        {
          "output_type": "execute_result",
          "data": {
            "text/plain": [
              "Index(['Rank', 'Country', 'Score', 'GDP', 'Family', 'Health', 'Freedom',\n",
              "       'Generosity', 'Corruption', 'Year'],\n",
              "      dtype='object')"
            ]
          },
          "metadata": {
            "tags": []
          },
          "execution_count": 35
        }
      ]
    },
    {
      "cell_type": "code",
      "metadata": {
        "id": "U8yfkakn17HM"
      },
      "source": [
        "reg = LinearRegression()"
      ],
      "execution_count": 36,
      "outputs": []
    },
    {
      "cell_type": "code",
      "metadata": {
        "id": "b_5y20gl2D4e"
      },
      "source": [
        "main_feats = ['GDP', 'Family', 'Health']"
      ],
      "execution_count": 37,
      "outputs": []
    },
    {
      "cell_type": "code",
      "metadata": {
        "id": "i0RMu6832M-G"
      },
      "source": [
        "x = hw20[main_feats]\n",
        "y = hw20['Score']"
      ],
      "execution_count": 38,
      "outputs": []
    },
    {
      "cell_type": "code",
      "metadata": {
        "colab": {
          "base_uri": "https://localhost:8080/"
        },
        "id": "kgMaAqvf2cdY",
        "outputId": "8f7231dd-e74e-4355-e515-c79ef371823e"
      },
      "source": [
        "reg.fit(x,y)"
      ],
      "execution_count": 39,
      "outputs": [
        {
          "output_type": "execute_result",
          "data": {
            "text/plain": [
              "LinearRegression(copy_X=True, fit_intercept=True, n_jobs=None, normalize=False)"
            ]
          },
          "metadata": {
            "tags": []
          },
          "execution_count": 39
        }
      ]
    },
    {
      "cell_type": "code",
      "metadata": {
        "colab": {
          "base_uri": "https://localhost:8080/"
        },
        "id": "cq2JeRdh2i6G",
        "outputId": "71409f76-8f15-4460-c09a-90ea7cb7240c"
      },
      "source": [
        "reg.score(x,y)"
      ],
      "execution_count": 40,
      "outputs": [
        {
          "output_type": "execute_result",
          "data": {
            "text/plain": [
              "0.6928323800123863"
            ]
          },
          "metadata": {
            "tags": []
          },
          "execution_count": 40
        }
      ]
    },
    {
      "cell_type": "code",
      "metadata": {
        "colab": {
          "base_uri": "https://localhost:8080/"
        },
        "id": "2emQQovS2m20",
        "outputId": "5108b2da-1a5c-4c3f-8409-dfb7445c3dda"
      },
      "source": [
        "reg.coef_"
      ],
      "execution_count": 41,
      "outputs": [
        {
          "output_type": "execute_result",
          "data": {
            "text/plain": [
              "array([0.27334509, 3.00051339, 0.04486298])"
            ]
          },
          "metadata": {
            "tags": []
          },
          "execution_count": 41
        }
      ]
    },
    {
      "cell_type": "code",
      "metadata": {
        "colab": {
          "base_uri": "https://localhost:8080/",
          "height": 137
        },
        "id": "zhSk44f42uk-",
        "outputId": "4ac1953c-0062-4de9-9eff-d5cbd324fcee"
      },
      "source": [
        "cdf = pd.DataFrame(reg.coef_,x.columns,columns=['Coeff'])\n",
        "cdf"
      ],
      "execution_count": 42,
      "outputs": [
        {
          "output_type": "execute_result",
          "data": {
            "text/html": [
              "<div>\n",
              "<style scoped>\n",
              "    .dataframe tbody tr th:only-of-type {\n",
              "        vertical-align: middle;\n",
              "    }\n",
              "\n",
              "    .dataframe tbody tr th {\n",
              "        vertical-align: top;\n",
              "    }\n",
              "\n",
              "    .dataframe thead th {\n",
              "        text-align: right;\n",
              "    }\n",
              "</style>\n",
              "<table border=\"1\" class=\"dataframe\">\n",
              "  <thead>\n",
              "    <tr style=\"text-align: right;\">\n",
              "      <th></th>\n",
              "      <th>Coeff</th>\n",
              "    </tr>\n",
              "  </thead>\n",
              "  <tbody>\n",
              "    <tr>\n",
              "      <th>GDP</th>\n",
              "      <td>0.273345</td>\n",
              "    </tr>\n",
              "    <tr>\n",
              "      <th>Family</th>\n",
              "      <td>3.000513</td>\n",
              "    </tr>\n",
              "    <tr>\n",
              "      <th>Health</th>\n",
              "      <td>0.044863</td>\n",
              "    </tr>\n",
              "  </tbody>\n",
              "</table>\n",
              "</div>"
            ],
            "text/plain": [
              "           Coeff\n",
              "GDP     0.273345\n",
              "Family  3.000513\n",
              "Health  0.044863"
            ]
          },
          "metadata": {
            "tags": []
          },
          "execution_count": 42
        }
      ]
    },
    {
      "cell_type": "code",
      "metadata": {
        "colab": {
          "base_uri": "https://localhost:8080/",
          "height": 405
        },
        "id": "SEMSUnOH3SD9",
        "outputId": "5582dda4-7b26-4349-e088-80f17d05360d"
      },
      "source": [
        "x"
      ],
      "execution_count": 45,
      "outputs": [
        {
          "output_type": "execute_result",
          "data": {
            "text/html": [
              "<div>\n",
              "<style scoped>\n",
              "    .dataframe tbody tr th:only-of-type {\n",
              "        vertical-align: middle;\n",
              "    }\n",
              "\n",
              "    .dataframe tbody tr th {\n",
              "        vertical-align: top;\n",
              "    }\n",
              "\n",
              "    .dataframe thead th {\n",
              "        text-align: right;\n",
              "    }\n",
              "</style>\n",
              "<table border=\"1\" class=\"dataframe\">\n",
              "  <thead>\n",
              "    <tr style=\"text-align: right;\">\n",
              "      <th></th>\n",
              "      <th>GDP</th>\n",
              "      <th>Family</th>\n",
              "      <th>Health</th>\n",
              "    </tr>\n",
              "  </thead>\n",
              "  <tbody>\n",
              "    <tr>\n",
              "      <th>0</th>\n",
              "      <td>10.775</td>\n",
              "      <td>0.954</td>\n",
              "      <td>72.000</td>\n",
              "    </tr>\n",
              "    <tr>\n",
              "      <th>1</th>\n",
              "      <td>10.933</td>\n",
              "      <td>0.954</td>\n",
              "      <td>72.700</td>\n",
              "    </tr>\n",
              "    <tr>\n",
              "      <th>2</th>\n",
              "      <td>11.117</td>\n",
              "      <td>0.942</td>\n",
              "      <td>74.400</td>\n",
              "    </tr>\n",
              "    <tr>\n",
              "      <th>3</th>\n",
              "      <td>10.878</td>\n",
              "      <td>0.983</td>\n",
              "      <td>73.000</td>\n",
              "    </tr>\n",
              "    <tr>\n",
              "      <th>4</th>\n",
              "      <td>10.932</td>\n",
              "      <td>0.942</td>\n",
              "      <td>72.400</td>\n",
              "    </tr>\n",
              "    <tr>\n",
              "      <th>...</th>\n",
              "      <td>...</td>\n",
              "      <td>...</td>\n",
              "      <td>...</td>\n",
              "    </tr>\n",
              "    <tr>\n",
              "      <th>144</th>\n",
              "      <td>7.926</td>\n",
              "      <td>0.787</td>\n",
              "      <td>48.700</td>\n",
              "    </tr>\n",
              "    <tr>\n",
              "      <th>145</th>\n",
              "      <td>9.782</td>\n",
              "      <td>0.784</td>\n",
              "      <td>59.269</td>\n",
              "    </tr>\n",
              "    <tr>\n",
              "      <th>146</th>\n",
              "      <td>7.676</td>\n",
              "      <td>0.552</td>\n",
              "      <td>61.400</td>\n",
              "    </tr>\n",
              "    <tr>\n",
              "      <th>147</th>\n",
              "      <td>7.943</td>\n",
              "      <td>0.750</td>\n",
              "      <td>56.201</td>\n",
              "    </tr>\n",
              "    <tr>\n",
              "      <th>148</th>\n",
              "      <td>7.695</td>\n",
              "      <td>0.463</td>\n",
              "      <td>52.493</td>\n",
              "    </tr>\n",
              "  </tbody>\n",
              "</table>\n",
              "<p>149 rows × 3 columns</p>\n",
              "</div>"
            ],
            "text/plain": [
              "        GDP  Family  Health\n",
              "0    10.775   0.954  72.000\n",
              "1    10.933   0.954  72.700\n",
              "2    11.117   0.942  74.400\n",
              "3    10.878   0.983  73.000\n",
              "4    10.932   0.942  72.400\n",
              "..      ...     ...     ...\n",
              "144   7.926   0.787  48.700\n",
              "145   9.782   0.784  59.269\n",
              "146   7.676   0.552  61.400\n",
              "147   7.943   0.750  56.201\n",
              "148   7.695   0.463  52.493\n",
              "\n",
              "[149 rows x 3 columns]"
            ]
          },
          "metadata": {
            "tags": []
          },
          "execution_count": 45
        }
      ]
    },
    {
      "cell_type": "code",
      "metadata": {
        "id": "-BKylqIy3gtR"
      },
      "source": [
        "df1 = hw20[['Score']]\n"
      ],
      "execution_count": 46,
      "outputs": []
    },
    {
      "cell_type": "code",
      "metadata": {
        "colab": {
          "base_uri": "https://localhost:8080/"
        },
        "id": "git2SZeujLjV",
        "outputId": "494a2c48-ff01-4b84-ab82-663010832ba9"
      },
      "source": [
        "predictions = reg.predict(x)\n",
        "df1['Predictions'] =predictions"
      ],
      "execution_count": 47,
      "outputs": [
        {
          "output_type": "stream",
          "text": [
            "/usr/local/lib/python3.7/dist-packages/ipykernel_launcher.py:2: SettingWithCopyWarning: \n",
            "A value is trying to be set on a copy of a slice from a DataFrame.\n",
            "Try using .loc[row_indexer,col_indexer] = value instead\n",
            "\n",
            "See the caveats in the documentation: https://pandas.pydata.org/pandas-docs/stable/user_guide/indexing.html#returning-a-view-versus-a-copy\n",
            "  \n"
          ],
          "name": "stderr"
        }
      ]
    },
    {
      "cell_type": "code",
      "metadata": {
        "colab": {
          "base_uri": "https://localhost:8080/",
          "height": 197
        },
        "id": "-PQhwWi74Fi3",
        "outputId": "574637ce-b22d-4237-9ced-9c145bb0e9b0"
      },
      "source": [
        "df1.head()"
      ],
      "execution_count": 48,
      "outputs": [
        {
          "output_type": "execute_result",
          "data": {
            "text/html": [
              "<div>\n",
              "<style scoped>\n",
              "    .dataframe tbody tr th:only-of-type {\n",
              "        vertical-align: middle;\n",
              "    }\n",
              "\n",
              "    .dataframe tbody tr th {\n",
              "        vertical-align: top;\n",
              "    }\n",
              "\n",
              "    .dataframe thead th {\n",
              "        text-align: right;\n",
              "    }\n",
              "</style>\n",
              "<table border=\"1\" class=\"dataframe\">\n",
              "  <thead>\n",
              "    <tr style=\"text-align: right;\">\n",
              "      <th></th>\n",
              "      <th>Score</th>\n",
              "      <th>Predictions</th>\n",
              "    </tr>\n",
              "  </thead>\n",
              "  <tbody>\n",
              "    <tr>\n",
              "      <th>0</th>\n",
              "      <td>7.842</td>\n",
              "      <td>6.632085</td>\n",
              "    </tr>\n",
              "    <tr>\n",
              "      <th>1</th>\n",
              "      <td>7.620</td>\n",
              "      <td>6.706678</td>\n",
              "    </tr>\n",
              "    <tr>\n",
              "      <th>2</th>\n",
              "      <td>7.571</td>\n",
              "      <td>6.797234</td>\n",
              "    </tr>\n",
              "    <tr>\n",
              "      <th>3</th>\n",
              "      <td>7.554</td>\n",
              "      <td>6.792117</td>\n",
              "    </tr>\n",
              "    <tr>\n",
              "      <th>4</th>\n",
              "      <td>7.464</td>\n",
              "      <td>6.656939</td>\n",
              "    </tr>\n",
              "  </tbody>\n",
              "</table>\n",
              "</div>"
            ],
            "text/plain": [
              "   Score  Predictions\n",
              "0  7.842     6.632085\n",
              "1  7.620     6.706678\n",
              "2  7.571     6.797234\n",
              "3  7.554     6.792117\n",
              "4  7.464     6.656939"
            ]
          },
          "metadata": {
            "tags": []
          },
          "execution_count": 48
        }
      ]
    },
    {
      "cell_type": "code",
      "metadata": {
        "colab": {
          "base_uri": "https://localhost:8080/"
        },
        "id": "NA76vd5b37FC",
        "outputId": "75ba5eea-f37f-4791-fd0f-4ed6f3588c35"
      },
      "source": [
        "df1['Error']=(df1['Score']-df1['Predictions'])**2"
      ],
      "execution_count": 49,
      "outputs": [
        {
          "output_type": "stream",
          "text": [
            "/usr/local/lib/python3.7/dist-packages/ipykernel_launcher.py:1: SettingWithCopyWarning: \n",
            "A value is trying to be set on a copy of a slice from a DataFrame.\n",
            "Try using .loc[row_indexer,col_indexer] = value instead\n",
            "\n",
            "See the caveats in the documentation: https://pandas.pydata.org/pandas-docs/stable/user_guide/indexing.html#returning-a-view-versus-a-copy\n",
            "  \"\"\"Entry point for launching an IPython kernel.\n"
          ],
          "name": "stderr"
        }
      ]
    },
    {
      "cell_type": "code",
      "metadata": {
        "colab": {
          "base_uri": "https://localhost:8080/",
          "height": 197
        },
        "id": "mxq_9wCq4r8N",
        "outputId": "904ceb0a-b211-4c31-b20c-8de4ac456841"
      },
      "source": [
        "df1.head()"
      ],
      "execution_count": 50,
      "outputs": [
        {
          "output_type": "execute_result",
          "data": {
            "text/html": [
              "<div>\n",
              "<style scoped>\n",
              "    .dataframe tbody tr th:only-of-type {\n",
              "        vertical-align: middle;\n",
              "    }\n",
              "\n",
              "    .dataframe tbody tr th {\n",
              "        vertical-align: top;\n",
              "    }\n",
              "\n",
              "    .dataframe thead th {\n",
              "        text-align: right;\n",
              "    }\n",
              "</style>\n",
              "<table border=\"1\" class=\"dataframe\">\n",
              "  <thead>\n",
              "    <tr style=\"text-align: right;\">\n",
              "      <th></th>\n",
              "      <th>Score</th>\n",
              "      <th>Predictions</th>\n",
              "      <th>Error</th>\n",
              "    </tr>\n",
              "  </thead>\n",
              "  <tbody>\n",
              "    <tr>\n",
              "      <th>0</th>\n",
              "      <td>7.842</td>\n",
              "      <td>6.632085</td>\n",
              "      <td>1.463894</td>\n",
              "    </tr>\n",
              "    <tr>\n",
              "      <th>1</th>\n",
              "      <td>7.620</td>\n",
              "      <td>6.706678</td>\n",
              "      <td>0.834158</td>\n",
              "    </tr>\n",
              "    <tr>\n",
              "      <th>2</th>\n",
              "      <td>7.571</td>\n",
              "      <td>6.797234</td>\n",
              "      <td>0.598714</td>\n",
              "    </tr>\n",
              "    <tr>\n",
              "      <th>3</th>\n",
              "      <td>7.554</td>\n",
              "      <td>6.792117</td>\n",
              "      <td>0.580465</td>\n",
              "    </tr>\n",
              "    <tr>\n",
              "      <th>4</th>\n",
              "      <td>7.464</td>\n",
              "      <td>6.656939</td>\n",
              "      <td>0.651347</td>\n",
              "    </tr>\n",
              "  </tbody>\n",
              "</table>\n",
              "</div>"
            ],
            "text/plain": [
              "   Score  Predictions     Error\n",
              "0  7.842     6.632085  1.463894\n",
              "1  7.620     6.706678  0.834158\n",
              "2  7.571     6.797234  0.598714\n",
              "3  7.554     6.792117  0.580465\n",
              "4  7.464     6.656939  0.651347"
            ]
          },
          "metadata": {
            "tags": []
          },
          "execution_count": 50
        }
      ]
    },
    {
      "cell_type": "code",
      "metadata": {
        "colab": {
          "base_uri": "https://localhost:8080/"
        },
        "id": "iyRHqk_N38oa",
        "outputId": "2cab484d-f458-49df-e8e4-8a554179b563"
      },
      "source": [
        "df1.mean()"
      ],
      "execution_count": 51,
      "outputs": [
        {
          "output_type": "execute_result",
          "data": {
            "text/plain": [
              "Score          5.532839\n",
              "Predictions    5.532839\n",
              "Error          0.351882\n",
              "dtype: float64"
            ]
          },
          "metadata": {
            "tags": []
          },
          "execution_count": 51
        }
      ]
    },
    {
      "cell_type": "code",
      "metadata": {
        "id": "fzqyjZcy5I-Q",
        "colab": {
          "base_uri": "https://localhost:8080/"
        },
        "outputId": "702f2f5f-8b72-469c-9045-467b5b6296c6"
      },
      "source": [
        "hw20.columns"
      ],
      "execution_count": 52,
      "outputs": [
        {
          "output_type": "execute_result",
          "data": {
            "text/plain": [
              "Index(['Rank', 'Country', 'Score', 'GDP', 'Family', 'Health', 'Freedom',\n",
              "       'Generosity', 'Corruption', 'Year'],\n",
              "      dtype='object')"
            ]
          },
          "metadata": {
            "tags": []
          },
          "execution_count": 52
        }
      ]
    },
    {
      "cell_type": "code",
      "metadata": {
        "colab": {
          "base_uri": "https://localhost:8080/",
          "height": 284
        },
        "id": "4fmc1jcFq3oy",
        "outputId": "da901bb9-73fe-43db-e3e1-ca8d1749d4b0"
      },
      "source": [
        "plt.scatter(y,predictions, linewidths=1)"
      ],
      "execution_count": 53,
      "outputs": [
        {
          "output_type": "execute_result",
          "data": {
            "text/plain": [
              "<matplotlib.collections.PathCollection at 0x7f5ed9acea50>"
            ]
          },
          "metadata": {
            "tags": []
          },
          "execution_count": 53
        },
        {
          "output_type": "display_data",
          "data": {
            "image/png": "[encoded data removed]",
            "text/plain": [
              "<Figure size 432x288 with 1 Axes>"
            ]
          },
          "metadata": {
            "tags": [],
            "needs_background": "light"
          }
        }
      ]
    },
    {
      "cell_type": "code",
      "metadata": {
        "colab": {
          "base_uri": "https://localhost:8080/",
          "height": 386
        },
        "id": "iQulo90UrSTB",
        "outputId": "cd302051-e2ab-4e3d-80b8-ed8a3f2c1b95"
      },
      "source": [
        "sns.displot(y-predictions, kde=True)"
      ],
      "execution_count": 54,
      "outputs": [
        {
          "output_type": "execute_result",
          "data": {
            "text/plain": [
              "<seaborn.axisgrid.FacetGrid at 0x7f5ee02b3210>"
            ]
          },
          "metadata": {
            "tags": []
          },
          "execution_count": 54
        },
        {
          "output_type": "display_data",
          "data": {
            "image/png": "[encoded data removed]",
            "text/plain": [
              "<Figure size 360x360 with 1 Axes>"
            ]
          },
          "metadata": {
            "tags": [],
            "needs_background": "light"
          }
        }
      ]
    },
    {
      "cell_type": "code",
      "metadata": {
        "colab": {
          "base_uri": "https://localhost:8080/"
        },
        "id": "zVG9jAHmrubo",
        "outputId": "19f2ecd9-6cad-4e1f-f049-c4beab6cf699"
      },
      "source": [
        "metrics.mean_absolute_error(y,predictions)"
      ],
      "execution_count": 55,
      "outputs": [
        {
          "output_type": "execute_result",
          "data": {
            "text/plain": [
              "0.4786013084223609"
            ]
          },
          "metadata": {
            "tags": []
          },
          "execution_count": 55
        }
      ]
    },
    {
      "cell_type": "code",
      "metadata": {
        "colab": {
          "base_uri": "https://localhost:8080/"
        },
        "id": "GiocL0-Rr4Jd",
        "outputId": "ec0a9bb8-face-44df-b0cf-43270ba0fc76"
      },
      "source": [
        "metrics.mean_squared_error(y,predictions)"
      ],
      "execution_count": 56,
      "outputs": [
        {
          "output_type": "execute_result",
          "data": {
            "text/plain": [
              "0.3518824642420089"
            ]
          },
          "metadata": {
            "tags": []
          },
          "execution_count": 56
        }
      ]
    },
    {
      "cell_type": "code",
      "metadata": {
        "colab": {
          "base_uri": "https://localhost:8080/"
        },
        "id": "2PMG6kevsBLb",
        "outputId": "c807a4c8-82d2-4005-d554-fbc121d54b91"
      },
      "source": [
        "np.sqrt(metrics.mean_squared_error(y,predictions))"
      ],
      "execution_count": 57,
      "outputs": [
        {
          "output_type": "execute_result",
          "data": {
            "text/plain": [
              "0.5931968174577549"
            ]
          },
          "metadata": {
            "tags": []
          },
          "execution_count": 57
        }
      ]
    },
    {
      "cell_type": "markdown",
      "metadata": {
        "id": "em2eb_KMunTS"
      },
      "source": [
        "2. ALGORITMI REGRESORI:\n",
        " - RANDOM FOREST - REGRESOR\n",
        " - DECISION TREE REGRESOR\n",
        " - ADABOOST"
      ]
    },
    {
      "cell_type": "code",
      "metadata": {
        "colab": {
          "base_uri": "https://localhost:8080/"
        },
        "id": "fK6d6AMxtlKI",
        "outputId": "21f1acec-736f-4e8b-8063-1500b2d79c45"
      },
      "source": [
        "from sklearn.tree import DecisionTreeRegressor #DecisionTree Regressor\n",
        "from sklearn.ensemble import RandomForestRegressor # RandomForest Regressor\n",
        "from sklearn.ensemble import AdaBoostRegressor #AdaBoostRegressor\n",
        "\n",
        "from sklearn.model_selection import train_test_split\n",
        "from sklearn import preprocessing \n",
        "\n",
        "hw20_x = hw20[['GDP', 'Family', 'Health', 'Freedom', 'Corruption']]\n",
        "hw20_y = hw20[['Score']] \n",
        "\n",
        "\n",
        "(train_x, test_x, train_y, test_y) = train_test_split(hw20_x, hw20_y, test_size=0.25) # obucavanje\n",
        "\n",
        "# Create model\n",
        "# Regression models\n",
        "RandomForest_model = RandomForestRegressor(n_estimators=100,random_state=42)\n",
        "DecisionTree_model = DecisionTreeRegressor(max_depth=4)\n",
        "AdaBoost_model = AdaBoostRegressor(DecisionTreeRegressor(max_depth=4), n_estimators=400,random_state=7)\n",
        "\n",
        "# Learning model (just compare DecisionTree vs RandomForest and AdaBoost)\n",
        "DecisionTree_model.fit(train_x, train_y)\n",
        "RandomForest_model.fit(train_x, train_y)\n",
        "AdaBoost_model.fit(train_x, train_y)\n",
        "\n",
        "DecisionTree_pred_y = DecisionTree_model.predict(test_x)\n",
        "RandomForest_pred_y = RandomForest_model.predict(test_x)\n",
        "AdaBoost_pred_y = AdaBoost_model.predict(test_x)"
      ],
      "execution_count": 58,
      "outputs": [
        {
          "output_type": "stream",
          "text": [
            "/usr/local/lib/python3.7/dist-packages/ipykernel_launcher.py:22: DataConversionWarning: A column-vector y was passed when a 1d array was expected. Please change the shape of y to (n_samples,), for example using ravel().\n",
            "/usr/local/lib/python3.7/dist-packages/sklearn/utils/validation.py:760: DataConversionWarning: A column-vector y was passed when a 1d array was expected. Please change the shape of y to (n_samples, ), for example using ravel().\n",
            "  y = column_or_1d(y, warn=True)\n"
          ],
          "name": "stderr"
        }
      ]
    },
    {
      "cell_type": "code",
      "metadata": {
        "colab": {
          "base_uri": "https://localhost:8080/"
        },
        "id": "BB3J3K1DuK7h",
        "outputId": "d6de5c42-50d2-42a3-865d-05d5204971b2"
      },
      "source": [
        "from sklearn import metrics\n",
        "\n",
        "#LOSS FUNCIONS RF\n",
        "print('RF Mean Absolute Error:', metrics.mean_absolute_error(test_y,RandomForest_pred_y))\n",
        "print('RF Mean Squared Error:', metrics.mean_squared_error(test_y,RandomForest_pred_y))\n",
        "print('RF Root Mean Squared Error:', np.sqrt(metrics.mean_squared_error(test_y,RandomForest_pred_y)))"
      ],
      "execution_count": 59,
      "outputs": [
        {
          "output_type": "stream",
          "text": [
            "RF Mean Absolute Error: 0.45009710526315877\n",
            "RF Mean Squared Error: 0.34334764053421146\n",
            "RF Root Mean Squared Error: 0.5859587362043606\n"
          ],
          "name": "stdout"
        }
      ]
    },
    {
      "cell_type": "code",
      "metadata": {
        "colab": {
          "base_uri": "https://localhost:8080/"
        },
        "id": "yJek29g6uP2C",
        "outputId": "d4e883a6-d6b1-42c5-9411-9ef1128d46d9"
      },
      "source": [
        "#LOSS FUNCTIONS DT\n",
        "print('DT Mean Absolute Error:', metrics.mean_absolute_error(test_y,DecisionTree_pred_y))\n",
        "print('DT Mean Squared Error:', metrics.mean_squared_error(test_y,DecisionTree_pred_y))\n",
        "print('DT Root Mean Squared Error:', np.sqrt(metrics.mean_squared_error(test_y,DecisionTree_pred_y)))"
      ],
      "execution_count": 60,
      "outputs": [
        {
          "output_type": "stream",
          "text": [
            "DT Mean Absolute Error: 0.5336913581301742\n",
            "DT Mean Squared Error: 0.40361735384627956\n",
            "DT Root Mean Squared Error: 0.6353088649202682\n"
          ],
          "name": "stdout"
        }
      ]
    },
    {
      "cell_type": "code",
      "metadata": {
        "colab": {
          "base_uri": "https://localhost:8080/"
        },
        "id": "fG94nKSLub8j",
        "outputId": "643b8f60-f6e4-4d0f-c4ec-fab4699d5433"
      },
      "source": [
        "#LOSS FUNCTIONS AB\n",
        "print('AB Mean Absolute Error:', metrics.mean_absolute_error(test_y,AdaBoost_pred_y))\n",
        "print('AB Mean Squared Error:', metrics.mean_squared_error(test_y,AdaBoost_pred_y))\n",
        "print('AB Root Mean Squared Error:', np.sqrt(metrics.mean_squared_error(test_y,AdaBoost_pred_y)))"
      ],
      "execution_count": 61,
      "outputs": [
        {
          "output_type": "stream",
          "text": [
            "AB Mean Absolute Error: 0.4453877335027534\n",
            "AB Mean Squared Error: 0.3205027668352759\n",
            "AB Root Mean Squared Error: 0.5661296378350774\n"
          ],
          "name": "stdout"
        }
      ]
    },
    {
      "cell_type": "markdown",
      "metadata": {
        "id": "4aGtcLnuqsSm"
      },
      "source": [
        "EVALUATION METRICS FOR REGRESSION PROBLEM\n",
        "\n",
        "MAE - samo prosecna greska /srednja vrednost apsolutne vrednosti greske\n",
        "MSE - na kvadrat\n",
        "RMSE - koren MSE\n",
        "Ovo su LOSS FUNCTIONS, koje je potrebno minimizovati da bi kreirali najbolji moguci model"
      ]
    },
    {
      "cell_type": "markdown",
      "metadata": {
        "id": "-o5fh1mdsI34"
      },
      "source": [
        "3. ALGORITMI KLASIFIKATORI\n",
        "\n",
        " - RANDOM FOREST\n",
        " - SUPPORT VECTOR MACHINE (SVM)\n",
        "\n",
        "Random Forest i Support Vector Machine algoritmi KLASIFIKATORI\n",
        "\n",
        "Da bi primenili klasifikatore Random Forest i Support Vector Machine, napravili smo jos jednu kolonu na osnovu Score, koja daje informaciju da li je neka yemlja srecna ili ne."
      ]
    },
    {
      "cell_type": "code",
      "metadata": {
        "id": "_Zc4HN-wk5kr"
      },
      "source": [
        "happy = []\n",
        "for i in hw20.Score:\n",
        "   if (i > 5):\n",
        "     happy.append('Yes')\n",
        "\n",
        "   else:\n",
        "     happy.append('No')\n",
        "\n",
        "hw20['Happy']=happy"
      ],
      "execution_count": 62,
      "outputs": []
    },
    {
      "cell_type": "code",
      "metadata": {
        "colab": {
          "base_uri": "https://localhost:8080/",
          "height": 197
        },
        "id": "QZuKnX3BlB2F",
        "outputId": "e5821c4e-89d8-4cf6-e8fc-2690a37c6155"
      },
      "source": [
        "hw20.head()"
      ],
      "execution_count": 63,
      "outputs": [
        {
          "output_type": "execute_result",
          "data": {
            "text/html": [
              "<div>\n",
              "<style scoped>\n",
              "    .dataframe tbody tr th:only-of-type {\n",
              "        vertical-align: middle;\n",
              "    }\n",
              "\n",
              "    .dataframe tbody tr th {\n",
              "        vertical-align: top;\n",
              "    }\n",
              "\n",
              "    .dataframe thead th {\n",
              "        text-align: right;\n",
              "    }\n",
              "</style>\n",
              "<table border=\"1\" class=\"dataframe\">\n",
              "  <thead>\n",
              "    <tr style=\"text-align: right;\">\n",
              "      <th></th>\n",
              "      <th>Rank</th>\n",
              "      <th>Country</th>\n",
              "      <th>Score</th>\n",
              "      <th>GDP</th>\n",
              "      <th>Family</th>\n",
              "      <th>Health</th>\n",
              "      <th>Freedom</th>\n",
              "      <th>Generosity</th>\n",
              "      <th>Corruption</th>\n",
              "      <th>Year</th>\n",
              "      <th>Happy</th>\n",
              "    </tr>\n",
              "  </thead>\n",
              "  <tbody>\n",
              "    <tr>\n",
              "      <th>0</th>\n",
              "      <td>1</td>\n",
              "      <td>Finland</td>\n",
              "      <td>7.842</td>\n",
              "      <td>10.775</td>\n",
              "      <td>0.954</td>\n",
              "      <td>72.0</td>\n",
              "      <td>0.949</td>\n",
              "      <td>-0.098</td>\n",
              "      <td>0.186</td>\n",
              "      <td>2020</td>\n",
              "      <td>Yes</td>\n",
              "    </tr>\n",
              "    <tr>\n",
              "      <th>1</th>\n",
              "      <td>2</td>\n",
              "      <td>Denmark</td>\n",
              "      <td>7.620</td>\n",
              "      <td>10.933</td>\n",
              "      <td>0.954</td>\n",
              "      <td>72.7</td>\n",
              "      <td>0.946</td>\n",
              "      <td>0.030</td>\n",
              "      <td>0.179</td>\n",
              "      <td>2020</td>\n",
              "      <td>Yes</td>\n",
              "    </tr>\n",
              "    <tr>\n",
              "      <th>2</th>\n",
              "      <td>3</td>\n",
              "      <td>Switzerland</td>\n",
              "      <td>7.571</td>\n",
              "      <td>11.117</td>\n",
              "      <td>0.942</td>\n",
              "      <td>74.4</td>\n",
              "      <td>0.919</td>\n",
              "      <td>0.025</td>\n",
              "      <td>0.292</td>\n",
              "      <td>2020</td>\n",
              "      <td>Yes</td>\n",
              "    </tr>\n",
              "    <tr>\n",
              "      <th>3</th>\n",
              "      <td>4</td>\n",
              "      <td>Iceland</td>\n",
              "      <td>7.554</td>\n",
              "      <td>10.878</td>\n",
              "      <td>0.983</td>\n",
              "      <td>73.0</td>\n",
              "      <td>0.955</td>\n",
              "      <td>0.160</td>\n",
              "      <td>0.673</td>\n",
              "      <td>2020</td>\n",
              "      <td>Yes</td>\n",
              "    </tr>\n",
              "    <tr>\n",
              "      <th>4</th>\n",
              "      <td>5</td>\n",
              "      <td>Netherlands</td>\n",
              "      <td>7.464</td>\n",
              "      <td>10.932</td>\n",
              "      <td>0.942</td>\n",
              "      <td>72.4</td>\n",
              "      <td>0.913</td>\n",
              "      <td>0.175</td>\n",
              "      <td>0.338</td>\n",
              "      <td>2020</td>\n",
              "      <td>Yes</td>\n",
              "    </tr>\n",
              "  </tbody>\n",
              "</table>\n",
              "</div>"
            ],
            "text/plain": [
              "   Rank      Country  Score     GDP  ...  Generosity  Corruption  Year  Happy\n",
              "0     1      Finland  7.842  10.775  ...      -0.098       0.186  2020    Yes\n",
              "1     2      Denmark  7.620  10.933  ...       0.030       0.179  2020    Yes\n",
              "2     3  Switzerland  7.571  11.117  ...       0.025       0.292  2020    Yes\n",
              "3     4      Iceland  7.554  10.878  ...       0.160       0.673  2020    Yes\n",
              "4     5  Netherlands  7.464  10.932  ...       0.175       0.338  2020    Yes\n",
              "\n",
              "[5 rows x 11 columns]"
            ]
          },
          "metadata": {
            "tags": []
          },
          "execution_count": 63
        }
      ]
    },
    {
      "cell_type": "code",
      "metadata": {
        "colab": {
          "base_uri": "https://localhost:8080/"
        },
        "id": "AtaSmhz5lPtj",
        "outputId": "84ec15b5-85d0-41c9-95f0-77a43f774a51"
      },
      "source": [
        "hw20['Happy'].value_counts()"
      ],
      "execution_count": 64,
      "outputs": [
        {
          "output_type": "execute_result",
          "data": {
            "text/plain": [
              "Yes    101\n",
              "No      48\n",
              "Name: Happy, dtype: int64"
            ]
          },
          "metadata": {
            "tags": []
          },
          "execution_count": 64
        }
      ]
    },
    {
      "cell_type": "code",
      "metadata": {
        "colab": {
          "base_uri": "https://localhost:8080/"
        },
        "id": "6J-eGfdelorn",
        "outputId": "e7eb0844-f288-4b65-851e-dc336d21e4be"
      },
      "source": [
        "hw20.info()"
      ],
      "execution_count": 65,
      "outputs": [
        {
          "output_type": "stream",
          "text": [
            "<class 'pandas.core.frame.DataFrame'>\n",
            "RangeIndex: 149 entries, 0 to 148\n",
            "Data columns (total 11 columns):\n",
            " #   Column      Non-Null Count  Dtype  \n",
            "---  ------      --------------  -----  \n",
            " 0   Rank        149 non-null    int64  \n",
            " 1   Country     149 non-null    object \n",
            " 2   Score       149 non-null    float64\n",
            " 3   GDP         149 non-null    float64\n",
            " 4   Family      149 non-null    float64\n",
            " 5   Health      149 non-null    float64\n",
            " 6   Freedom     149 non-null    float64\n",
            " 7   Generosity  149 non-null    float64\n",
            " 8   Corruption  149 non-null    float64\n",
            " 9   Year        149 non-null    object \n",
            " 10  Happy       149 non-null    object \n",
            "dtypes: float64(7), int64(1), object(3)\n",
            "memory usage: 12.9+ KB\n"
          ],
          "name": "stdout"
        }
      ]
    },
    {
      "cell_type": "code",
      "metadata": {
        "id": "mSfY1a0sl0_y"
      },
      "source": [
        "from sklearn.preprocessing import LabelEncoder\n",
        "le = LabelEncoder()"
      ],
      "execution_count": 66,
      "outputs": []
    },
    {
      "cell_type": "code",
      "metadata": {
        "colab": {
          "base_uri": "https://localhost:8080/",
          "height": 231
        },
        "id": "OlaaPC2KmMqB",
        "outputId": "c1f3235c-e981-41a3-9707-041d409dded7"
      },
      "source": [
        "for column in hw20.columns:\n",
        "   if hw20[column].dtypes==np.number:\n",
        "       continue\n",
        "   hw20[column]= LabelEncoder().fit_transform(hw20[column])\n",
        "\n",
        "hw20.head()"
      ],
      "execution_count": 67,
      "outputs": [
        {
          "output_type": "stream",
          "text": [
            "/usr/local/lib/python3.7/dist-packages/ipykernel_launcher.py:2: DeprecationWarning: Converting `np.inexact` or `np.floating` to a dtype is deprecated. The current result is `float64` which is not strictly correct.\n",
            "  \n"
          ],
          "name": "stderr"
        },
        {
          "output_type": "execute_result",
          "data": {
            "text/html": [
              "<div>\n",
              "<style scoped>\n",
              "    .dataframe tbody tr th:only-of-type {\n",
              "        vertical-align: middle;\n",
              "    }\n",
              "\n",
              "    .dataframe tbody tr th {\n",
              "        vertical-align: top;\n",
              "    }\n",
              "\n",
              "    .dataframe thead th {\n",
              "        text-align: right;\n",
              "    }\n",
              "</style>\n",
              "<table border=\"1\" class=\"dataframe\">\n",
              "  <thead>\n",
              "    <tr style=\"text-align: right;\">\n",
              "      <th></th>\n",
              "      <th>Rank</th>\n",
              "      <th>Country</th>\n",
              "      <th>Score</th>\n",
              "      <th>GDP</th>\n",
              "      <th>Family</th>\n",
              "      <th>Health</th>\n",
              "      <th>Freedom</th>\n",
              "      <th>Generosity</th>\n",
              "      <th>Corruption</th>\n",
              "      <th>Year</th>\n",
              "      <th>Happy</th>\n",
              "    </tr>\n",
              "  </thead>\n",
              "  <tbody>\n",
              "    <tr>\n",
              "      <th>0</th>\n",
              "      <td>0</td>\n",
              "      <td>40</td>\n",
              "      <td>7.842</td>\n",
              "      <td>10.775</td>\n",
              "      <td>0.954</td>\n",
              "      <td>72.0</td>\n",
              "      <td>0.949</td>\n",
              "      <td>-0.098</td>\n",
              "      <td>0.186</td>\n",
              "      <td>0</td>\n",
              "      <td>1</td>\n",
              "    </tr>\n",
              "    <tr>\n",
              "      <th>1</th>\n",
              "      <td>1</td>\n",
              "      <td>33</td>\n",
              "      <td>7.620</td>\n",
              "      <td>10.933</td>\n",
              "      <td>0.954</td>\n",
              "      <td>72.7</td>\n",
              "      <td>0.946</td>\n",
              "      <td>0.030</td>\n",
              "      <td>0.179</td>\n",
              "      <td>0</td>\n",
              "      <td>1</td>\n",
              "    </tr>\n",
              "    <tr>\n",
              "      <th>2</th>\n",
              "      <td>2</td>\n",
              "      <td>128</td>\n",
              "      <td>7.571</td>\n",
              "      <td>11.117</td>\n",
              "      <td>0.942</td>\n",
              "      <td>74.4</td>\n",
              "      <td>0.919</td>\n",
              "      <td>0.025</td>\n",
              "      <td>0.292</td>\n",
              "      <td>0</td>\n",
              "      <td>1</td>\n",
              "    </tr>\n",
              "    <tr>\n",
              "      <th>3</th>\n",
              "      <td>3</td>\n",
              "      <td>54</td>\n",
              "      <td>7.554</td>\n",
              "      <td>10.878</td>\n",
              "      <td>0.983</td>\n",
              "      <td>73.0</td>\n",
              "      <td>0.955</td>\n",
              "      <td>0.160</td>\n",
              "      <td>0.673</td>\n",
              "      <td>0</td>\n",
              "      <td>1</td>\n",
              "    </tr>\n",
              "    <tr>\n",
              "      <th>4</th>\n",
              "      <td>4</td>\n",
              "      <td>96</td>\n",
              "      <td>7.464</td>\n",
              "      <td>10.932</td>\n",
              "      <td>0.942</td>\n",
              "      <td>72.4</td>\n",
              "      <td>0.913</td>\n",
              "      <td>0.175</td>\n",
              "      <td>0.338</td>\n",
              "      <td>0</td>\n",
              "      <td>1</td>\n",
              "    </tr>\n",
              "  </tbody>\n",
              "</table>\n",
              "</div>"
            ],
            "text/plain": [
              "   Rank  Country  Score     GDP  ...  Generosity  Corruption  Year  Happy\n",
              "0     0       40  7.842  10.775  ...      -0.098       0.186     0      1\n",
              "1     1       33  7.620  10.933  ...       0.030       0.179     0      1\n",
              "2     2      128  7.571  11.117  ...       0.025       0.292     0      1\n",
              "3     3       54  7.554  10.878  ...       0.160       0.673     0      1\n",
              "4     4       96  7.464  10.932  ...       0.175       0.338     0      1\n",
              "\n",
              "[5 rows x 11 columns]"
            ]
          },
          "metadata": {
            "tags": []
          },
          "execution_count": 67
        }
      ]
    },
    {
      "cell_type": "code",
      "metadata": {
        "colab": {
          "base_uri": "https://localhost:8080/"
        },
        "id": "XJ3YhGzvmdN7",
        "outputId": "678a506b-78fb-4fd1-b4d0-421e63f0f0a8"
      },
      "source": [
        "hw20.info()"
      ],
      "execution_count": 68,
      "outputs": [
        {
          "output_type": "stream",
          "text": [
            "<class 'pandas.core.frame.DataFrame'>\n",
            "RangeIndex: 149 entries, 0 to 148\n",
            "Data columns (total 11 columns):\n",
            " #   Column      Non-Null Count  Dtype  \n",
            "---  ------      --------------  -----  \n",
            " 0   Rank        149 non-null    int64  \n",
            " 1   Country     149 non-null    int64  \n",
            " 2   Score       149 non-null    float64\n",
            " 3   GDP         149 non-null    float64\n",
            " 4   Family      149 non-null    float64\n",
            " 5   Health      149 non-null    float64\n",
            " 6   Freedom     149 non-null    float64\n",
            " 7   Generosity  149 non-null    float64\n",
            " 8   Corruption  149 non-null    float64\n",
            " 9   Year        149 non-null    int64  \n",
            " 10  Happy       149 non-null    int64  \n",
            "dtypes: float64(7), int64(4)\n",
            "memory usage: 12.9 KB\n"
          ],
          "name": "stdout"
        }
      ]
    },
    {
      "cell_type": "code",
      "metadata": {
        "id": "77G_pOATmw4I"
      },
      "source": [
        "X = hw20.drop(columns={'Happy','Rank','Year','Score'}, axis=1)\n",
        "Y = hw20['Happy']"
      ],
      "execution_count": 69,
      "outputs": []
    },
    {
      "cell_type": "code",
      "metadata": {
        "id": "Yn1XbMkJnHNB"
      },
      "source": [
        "from sklearn.model_selection import train_test_split\n",
        "X_train, X_test, Y_train, Y_test = train_test_split(X,Y, test_size=0.25, random_state = 0)"
      ],
      "execution_count": 70,
      "outputs": []
    },
    {
      "cell_type": "code",
      "metadata": {
        "id": "eYJjLZConN50"
      },
      "source": [
        "#preprocessing\n",
        "from sklearn.preprocessing import StandardScaler\n",
        "sc = StandardScaler()\n",
        "X_train = sc.fit_transform(X_train)\n",
        "X_test = sc.transform(X_test)"
      ],
      "execution_count": 71,
      "outputs": []
    },
    {
      "cell_type": "code",
      "metadata": {
        "id": "q7_g7ASUnZXK"
      },
      "source": [
        "#evaluacija\n",
        "from sklearn import metrics\n",
        "from sklearn.metrics import accuracy_score\n",
        "from sklearn.metrics import classification_report, confusion_matrix"
      ],
      "execution_count": 72,
      "outputs": []
    },
    {
      "cell_type": "code",
      "metadata": {
        "colab": {
          "base_uri": "https://localhost:8080/"
        },
        "id": "umizeugundko",
        "outputId": "831f02b4-b48b-4fc8-d3e8-25d82def9793"
      },
      "source": [
        "#Random Forest\n",
        "from sklearn.ensemble import RandomForestClassifier\n",
        "from sklearn.model_selection import train_test_split\n",
        "\n",
        "rforest = RandomForestClassifier()\n",
        "\n",
        "rforest.fit(X_train, Y_train)\n",
        "\n",
        "y_pred = rforest.predict(X_test)\n",
        "acc_rforest = accuracy_score(Y_test, y_pred)\n",
        "\n",
        "print(\"Accuracy: {}\".format(acc_rforest))\n",
        "print()\n",
        "print(classification_report(Y_test,y_pred))\n",
        "cnf_matrix = metrics.confusion_matrix(Y_test,y_pred)\n",
        "print(cnf_matrix)\n",
        "\n",
        "\n",
        "\n"
      ],
      "execution_count": 73,
      "outputs": [
        {
          "output_type": "stream",
          "text": [
            "Accuracy: 0.8421052631578947\n",
            "\n",
            "              precision    recall  f1-score   support\n",
            "\n",
            "           0       0.64      0.90      0.75        10\n",
            "           1       0.96      0.82      0.88        28\n",
            "\n",
            "    accuracy                           0.84        38\n",
            "   macro avg       0.80      0.86      0.82        38\n",
            "weighted avg       0.88      0.84      0.85        38\n",
            "\n",
            "[[ 9  1]\n",
            " [ 5 23]]\n"
          ],
          "name": "stdout"
        }
      ]
    },
    {
      "cell_type": "code",
      "metadata": {
        "id": "01uZigSun2Ux"
      },
      "source": [
        "from sklearn.svm import SVC"
      ],
      "execution_count": 74,
      "outputs": []
    },
    {
      "cell_type": "code",
      "metadata": {
        "colab": {
          "base_uri": "https://localhost:8080/"
        },
        "id": "P_311CYGnsRZ",
        "outputId": "ab411a59-bdf5-40e9-e459-5184ca70ee2a"
      },
      "source": [
        "#Support Vector Machine\n",
        "from sklearn.svm import SVC\n",
        "svc_cl = SVC()\n",
        "svc_cl.fit(X_train, Y_train)\n",
        "y_pred_svc = svc_cl.predict(X_test)\n",
        "acc_svm = accuracy_score(Y_test, y_pred_svc)\n",
        "print(\"Accuracy: {}\".format(acc_svm))\n",
        "print()\n",
        "print(classification_report(Y_test,y_pred_svc))\n",
        "cnf_matrix_svc = metrics.confusion_matrix(Y_test,y_pred_svc)\n",
        "print(cnf_matrix_svc)"
      ],
      "execution_count": 75,
      "outputs": [
        {
          "output_type": "stream",
          "text": [
            "Accuracy: 0.8421052631578947\n",
            "\n",
            "              precision    recall  f1-score   support\n",
            "\n",
            "           0       0.64      0.90      0.75        10\n",
            "           1       0.96      0.82      0.88        28\n",
            "\n",
            "    accuracy                           0.84        38\n",
            "   macro avg       0.80      0.86      0.82        38\n",
            "weighted avg       0.88      0.84      0.85        38\n",
            "\n",
            "[[ 9  1]\n",
            " [ 5 23]]\n"
          ],
          "name": "stdout"
        }
      ]
    },
    {
      "cell_type": "markdown",
      "metadata": {
        "id": "lt86Ir4RqaeO"
      },
      "source": [
        "EVALUATION METRICS FOR CLASSIFICATION PROBLEM Merenje rezultata za klasifikacioni problem je classification report.: koliko je predikcija tacno, a koliko ne. Tacnije: true positive (TP), true negative(TN), false positive (FP) i false negative (FN) (confusion matrix).\n",
        "\n",
        "Accuracy - jedna od metrika za evaluaciju klasifikacionog modela. Predstavlja procenat tacnosti modela. Odnosno: broj tacnih predikcija/ukupan broj predikcija.\n",
        "Precision - tacnost pozitivnih predikcija. TP/(TP+FP)\n",
        "Recall - suprotno od precision, deo pozitivnih instanci koje su uspesno identifikovane. TP/(TP+FN)\n",
        "F1-score - ponderisana harmonijska sredina precision i recall, gde je nabolji rezultat 1, a najgori 0. Formula: F1 Score = 2(RecallPrecision)/(Recall+Precision)"
      ]
    },
    {
      "cell_type": "markdown",
      "metadata": {
        "id": "k1RRGHflqW-m"
      },
      "source": [
        "ZAKLJUCAK\n",
        "Na osnovu Galupovog izvestaja za 2020tu godinu, mozemo zakljuciti da, bez obzira na pandemiju COVID19 koja je zadesila svet prosle godine, uticaj faktora koji uticu na srecu jedne zemlje nije promenjen."
      ]
    },
    {
      "cell_type": "code",
      "metadata": {
        "id": "EwsQj2jf8uPj"
      },
      "source": [
        ""
      ],
      "execution_count": null,
      "outputs": []
    }
  ]
}